{
  "nbformat": 4,
  "nbformat_minor": 0,
  "metadata": {
    "colab": {
      "name": "Diamond_Prices.ipynb",
      "provenance": [],
      "collapsed_sections": []
    },
    "kernelspec": {
      "name": "python3",
      "display_name": "Python 3"
    }
  },
  "cells": [
    {
      "cell_type": "code",
      "metadata": {
        "id": "IU0GAGJI3fGt"
      },
      "source": [
        "import os\n",
        "import numpy as np \n",
        "import pandas as pd\n",
        "import matplotlib.pyplot as plt\n",
        "import seaborn as sns"
      ],
      "execution_count": null,
      "outputs": []
    },
    {
      "cell_type": "markdown",
      "metadata": {
        "id": "tJ9pej8B3qTW"
      },
      "source": [
        ""
      ]
    },
    {
      "cell_type": "code",
      "metadata": {
        "colab": {
          "base_uri": "https://localhost:8080/"
        },
        "id": "MCq51aHS3qaf",
        "outputId": "dd1f10c0-8aba-46ba-e2fa-0be791938d61"
      },
      "source": [
        "from google.colab import drive\n",
        "drive.mount('/content/gdrive')"
      ],
      "execution_count": null,
      "outputs": [
        {
          "output_type": "stream",
          "text": [
            "Drive already mounted at /content/gdrive; to attempt to forcibly remount, call drive.mount(\"/content/gdrive\", force_remount=True).\n"
          ],
          "name": "stdout"
        }
      ]
    },
    {
      "cell_type": "code",
      "metadata": {
        "id": "9eh0aCMq3tWX"
      },
      "source": [
        "df = pd.read_csv('gdrive/ My Drive/Colab Notebooks/Data Science/diamond_prices.csv',index_col=0)"
      ],
      "execution_count": null,
      "outputs": []
    },
    {
      "cell_type": "code",
      "metadata": {
        "colab": {
          "base_uri": "https://localhost:8080/",
          "height": 203
        },
        "id": "WIBC2Kjf34tw",
        "outputId": "b153aea6-bc42-4eb1-9c5f-0c1b95610b76"
      },
      "source": [
        "df.head()"
      ],
      "execution_count": null,
      "outputs": [
        {
          "output_type": "execute_result",
          "data": {
            "text/html": [
              "<div>\n",
              "<style scoped>\n",
              "    .dataframe tbody tr th:only-of-type {\n",
              "        vertical-align: middle;\n",
              "    }\n",
              "\n",
              "    .dataframe tbody tr th {\n",
              "        vertical-align: top;\n",
              "    }\n",
              "\n",
              "    .dataframe thead th {\n",
              "        text-align: right;\n",
              "    }\n",
              "</style>\n",
              "<table border=\"1\" class=\"dataframe\">\n",
              "  <thead>\n",
              "    <tr style=\"text-align: right;\">\n",
              "      <th></th>\n",
              "      <th>carat</th>\n",
              "      <th>cut</th>\n",
              "      <th>color</th>\n",
              "      <th>clarity</th>\n",
              "      <th>depth</th>\n",
              "      <th>table</th>\n",
              "      <th>price</th>\n",
              "      <th>x</th>\n",
              "      <th>y</th>\n",
              "      <th>z</th>\n",
              "    </tr>\n",
              "  </thead>\n",
              "  <tbody>\n",
              "    <tr>\n",
              "      <th>1</th>\n",
              "      <td>0.23</td>\n",
              "      <td>Ideal</td>\n",
              "      <td>E</td>\n",
              "      <td>SI2</td>\n",
              "      <td>61.5</td>\n",
              "      <td>55.0</td>\n",
              "      <td>326</td>\n",
              "      <td>3.95</td>\n",
              "      <td>3.98</td>\n",
              "      <td>2.43</td>\n",
              "    </tr>\n",
              "    <tr>\n",
              "      <th>2</th>\n",
              "      <td>0.21</td>\n",
              "      <td>Premium</td>\n",
              "      <td>E</td>\n",
              "      <td>SI1</td>\n",
              "      <td>59.8</td>\n",
              "      <td>61.0</td>\n",
              "      <td>326</td>\n",
              "      <td>3.89</td>\n",
              "      <td>3.84</td>\n",
              "      <td>2.31</td>\n",
              "    </tr>\n",
              "    <tr>\n",
              "      <th>3</th>\n",
              "      <td>0.23</td>\n",
              "      <td>Good</td>\n",
              "      <td>E</td>\n",
              "      <td>VS1</td>\n",
              "      <td>56.9</td>\n",
              "      <td>65.0</td>\n",
              "      <td>327</td>\n",
              "      <td>4.05</td>\n",
              "      <td>4.07</td>\n",
              "      <td>2.31</td>\n",
              "    </tr>\n",
              "    <tr>\n",
              "      <th>4</th>\n",
              "      <td>0.29</td>\n",
              "      <td>Premium</td>\n",
              "      <td>I</td>\n",
              "      <td>VS2</td>\n",
              "      <td>62.4</td>\n",
              "      <td>58.0</td>\n",
              "      <td>334</td>\n",
              "      <td>4.20</td>\n",
              "      <td>4.23</td>\n",
              "      <td>2.63</td>\n",
              "    </tr>\n",
              "    <tr>\n",
              "      <th>5</th>\n",
              "      <td>0.31</td>\n",
              "      <td>Good</td>\n",
              "      <td>J</td>\n",
              "      <td>SI2</td>\n",
              "      <td>63.3</td>\n",
              "      <td>58.0</td>\n",
              "      <td>335</td>\n",
              "      <td>4.34</td>\n",
              "      <td>4.35</td>\n",
              "      <td>2.75</td>\n",
              "    </tr>\n",
              "  </tbody>\n",
              "</table>\n",
              "</div>"
            ],
            "text/plain": [
              "   carat      cut color clarity  depth  table  price     x     y     z\n",
              "1   0.23    Ideal     E     SI2   61.5   55.0    326  3.95  3.98  2.43\n",
              "2   0.21  Premium     E     SI1   59.8   61.0    326  3.89  3.84  2.31\n",
              "3   0.23     Good     E     VS1   56.9   65.0    327  4.05  4.07  2.31\n",
              "4   0.29  Premium     I     VS2   62.4   58.0    334  4.20  4.23  2.63\n",
              "5   0.31     Good     J     SI2   63.3   58.0    335  4.34  4.35  2.75"
            ]
          },
          "metadata": {
            "tags": []
          },
          "execution_count": 205
        }
      ]
    },
    {
      "cell_type": "code",
      "metadata": {
        "colab": {
          "base_uri": "https://localhost:8080/"
        },
        "id": "7sw0f4lt34yf",
        "outputId": "ab5491bf-5d59-4300-a890-873097687d08"
      },
      "source": [
        "df.shape"
      ],
      "execution_count": null,
      "outputs": [
        {
          "output_type": "execute_result",
          "data": {
            "text/plain": [
              "(53940, 10)"
            ]
          },
          "metadata": {
            "tags": []
          },
          "execution_count": 206
        }
      ]
    },
    {
      "cell_type": "code",
      "metadata": {
        "colab": {
          "base_uri": "https://localhost:8080/",
          "height": 295
        },
        "id": "y4U6pviF342f",
        "outputId": "28213ddb-57ef-4188-a350-8e429dedce8b"
      },
      "source": [
        "df.describe()"
      ],
      "execution_count": null,
      "outputs": [
        {
          "output_type": "execute_result",
          "data": {
            "text/html": [
              "<div>\n",
              "<style scoped>\n",
              "    .dataframe tbody tr th:only-of-type {\n",
              "        vertical-align: middle;\n",
              "    }\n",
              "\n",
              "    .dataframe tbody tr th {\n",
              "        vertical-align: top;\n",
              "    }\n",
              "\n",
              "    .dataframe thead th {\n",
              "        text-align: right;\n",
              "    }\n",
              "</style>\n",
              "<table border=\"1\" class=\"dataframe\">\n",
              "  <thead>\n",
              "    <tr style=\"text-align: right;\">\n",
              "      <th></th>\n",
              "      <th>carat</th>\n",
              "      <th>depth</th>\n",
              "      <th>table</th>\n",
              "      <th>price</th>\n",
              "      <th>x</th>\n",
              "      <th>y</th>\n",
              "      <th>z</th>\n",
              "    </tr>\n",
              "  </thead>\n",
              "  <tbody>\n",
              "    <tr>\n",
              "      <th>count</th>\n",
              "      <td>53940.000000</td>\n",
              "      <td>53940.000000</td>\n",
              "      <td>53940.000000</td>\n",
              "      <td>53940.000000</td>\n",
              "      <td>53940.000000</td>\n",
              "      <td>53940.000000</td>\n",
              "      <td>53940.000000</td>\n",
              "    </tr>\n",
              "    <tr>\n",
              "      <th>mean</th>\n",
              "      <td>0.797940</td>\n",
              "      <td>61.749405</td>\n",
              "      <td>57.457184</td>\n",
              "      <td>3932.799722</td>\n",
              "      <td>5.731157</td>\n",
              "      <td>5.734526</td>\n",
              "      <td>3.538734</td>\n",
              "    </tr>\n",
              "    <tr>\n",
              "      <th>std</th>\n",
              "      <td>0.474011</td>\n",
              "      <td>1.432621</td>\n",
              "      <td>2.234491</td>\n",
              "      <td>3989.439738</td>\n",
              "      <td>1.121761</td>\n",
              "      <td>1.142135</td>\n",
              "      <td>0.705699</td>\n",
              "    </tr>\n",
              "    <tr>\n",
              "      <th>min</th>\n",
              "      <td>0.200000</td>\n",
              "      <td>43.000000</td>\n",
              "      <td>43.000000</td>\n",
              "      <td>326.000000</td>\n",
              "      <td>0.000000</td>\n",
              "      <td>0.000000</td>\n",
              "      <td>0.000000</td>\n",
              "    </tr>\n",
              "    <tr>\n",
              "      <th>25%</th>\n",
              "      <td>0.400000</td>\n",
              "      <td>61.000000</td>\n",
              "      <td>56.000000</td>\n",
              "      <td>950.000000</td>\n",
              "      <td>4.710000</td>\n",
              "      <td>4.720000</td>\n",
              "      <td>2.910000</td>\n",
              "    </tr>\n",
              "    <tr>\n",
              "      <th>50%</th>\n",
              "      <td>0.700000</td>\n",
              "      <td>61.800000</td>\n",
              "      <td>57.000000</td>\n",
              "      <td>2401.000000</td>\n",
              "      <td>5.700000</td>\n",
              "      <td>5.710000</td>\n",
              "      <td>3.530000</td>\n",
              "    </tr>\n",
              "    <tr>\n",
              "      <th>75%</th>\n",
              "      <td>1.040000</td>\n",
              "      <td>62.500000</td>\n",
              "      <td>59.000000</td>\n",
              "      <td>5324.250000</td>\n",
              "      <td>6.540000</td>\n",
              "      <td>6.540000</td>\n",
              "      <td>4.040000</td>\n",
              "    </tr>\n",
              "    <tr>\n",
              "      <th>max</th>\n",
              "      <td>5.010000</td>\n",
              "      <td>79.000000</td>\n",
              "      <td>95.000000</td>\n",
              "      <td>18823.000000</td>\n",
              "      <td>10.740000</td>\n",
              "      <td>58.900000</td>\n",
              "      <td>31.800000</td>\n",
              "    </tr>\n",
              "  </tbody>\n",
              "</table>\n",
              "</div>"
            ],
            "text/plain": [
              "              carat         depth  ...             y             z\n",
              "count  53940.000000  53940.000000  ...  53940.000000  53940.000000\n",
              "mean       0.797940     61.749405  ...      5.734526      3.538734\n",
              "std        0.474011      1.432621  ...      1.142135      0.705699\n",
              "min        0.200000     43.000000  ...      0.000000      0.000000\n",
              "25%        0.400000     61.000000  ...      4.720000      2.910000\n",
              "50%        0.700000     61.800000  ...      5.710000      3.530000\n",
              "75%        1.040000     62.500000  ...      6.540000      4.040000\n",
              "max        5.010000     79.000000  ...     58.900000     31.800000\n",
              "\n",
              "[8 rows x 7 columns]"
            ]
          },
          "metadata": {
            "tags": []
          },
          "execution_count": 207
        }
      ]
    },
    {
      "cell_type": "code",
      "metadata": {
        "colab": {
          "base_uri": "https://localhost:8080/"
        },
        "id": "feLfiTOt4vtH",
        "outputId": "e748c567-d2a5-49be-ba4d-368367752e70"
      },
      "source": [
        "df.info()"
      ],
      "execution_count": null,
      "outputs": [
        {
          "output_type": "stream",
          "text": [
            "<class 'pandas.core.frame.DataFrame'>\n",
            "Int64Index: 53940 entries, 1 to 53940\n",
            "Data columns (total 10 columns):\n",
            " #   Column   Non-Null Count  Dtype  \n",
            "---  ------   --------------  -----  \n",
            " 0   carat    53940 non-null  float64\n",
            " 1   cut      53940 non-null  object \n",
            " 2   color    53940 non-null  object \n",
            " 3   clarity  53940 non-null  object \n",
            " 4   depth    53940 non-null  float64\n",
            " 5   table    53940 non-null  float64\n",
            " 6   price    53940 non-null  int64  \n",
            " 7   x        53940 non-null  float64\n",
            " 8   y        53940 non-null  float64\n",
            " 9   z        53940 non-null  float64\n",
            "dtypes: float64(6), int64(1), object(3)\n",
            "memory usage: 4.5+ MB\n"
          ],
          "name": "stdout"
        }
      ]
    },
    {
      "cell_type": "code",
      "metadata": {
        "colab": {
          "base_uri": "https://localhost:8080/"
        },
        "id": "r-B9olh49owM",
        "outputId": "4f59569f-10f4-4310-b782-2bacb79d97e7"
      },
      "source": [
        "df.dtypes"
      ],
      "execution_count": null,
      "outputs": [
        {
          "output_type": "execute_result",
          "data": {
            "text/plain": [
              "carat      float64\n",
              "cut         object\n",
              "color       object\n",
              "clarity     object\n",
              "depth      float64\n",
              "table      float64\n",
              "price        int64\n",
              "x          float64\n",
              "y          float64\n",
              "z          float64\n",
              "dtype: object"
            ]
          },
          "metadata": {
            "tags": []
          },
          "execution_count": 209
        }
      ]
    },
    {
      "cell_type": "markdown",
      "metadata": {
        "id": "dBarAaleOp_e"
      },
      "source": [
        "We can see \"table\" values as integer from sample data so we might change datatype to int lets check before changing"
      ]
    },
    {
      "cell_type": "code",
      "metadata": {
        "colab": {
          "base_uri": "https://localhost:8080/"
        },
        "id": "QnUyGNenO23s",
        "outputId": "65b17f20-6d0d-450a-c6f7-c943544b73c3"
      },
      "source": [
        "all(x.is_integer() for x in df.table)"
      ],
      "execution_count": null,
      "outputs": [
        {
          "output_type": "execute_result",
          "data": {
            "text/plain": [
              "False"
            ]
          },
          "metadata": {
            "tags": []
          },
          "execution_count": 210
        }
      ]
    },
    {
      "cell_type": "markdown",
      "metadata": {
        "id": "fEqtdG6zPWn7"
      },
      "source": [
        "it is false so there might be float values in the data which is not shown in sample"
      ]
    },
    {
      "cell_type": "code",
      "metadata": {
        "colab": {
          "base_uri": "https://localhost:8080/",
          "height": 357
        },
        "id": "Xn4KY4LAPd7v",
        "outputId": "221a3941-b5ab-4ae9-ad0e-53a41e021240"
      },
      "source": [
        "df.sample(10)"
      ],
      "execution_count": null,
      "outputs": [
        {
          "output_type": "execute_result",
          "data": {
            "text/html": [
              "<div>\n",
              "<style scoped>\n",
              "    .dataframe tbody tr th:only-of-type {\n",
              "        vertical-align: middle;\n",
              "    }\n",
              "\n",
              "    .dataframe tbody tr th {\n",
              "        vertical-align: top;\n",
              "    }\n",
              "\n",
              "    .dataframe thead th {\n",
              "        text-align: right;\n",
              "    }\n",
              "</style>\n",
              "<table border=\"1\" class=\"dataframe\">\n",
              "  <thead>\n",
              "    <tr style=\"text-align: right;\">\n",
              "      <th></th>\n",
              "      <th>carat</th>\n",
              "      <th>cut</th>\n",
              "      <th>color</th>\n",
              "      <th>clarity</th>\n",
              "      <th>depth</th>\n",
              "      <th>table</th>\n",
              "      <th>price</th>\n",
              "      <th>x</th>\n",
              "      <th>y</th>\n",
              "      <th>z</th>\n",
              "    </tr>\n",
              "  </thead>\n",
              "  <tbody>\n",
              "    <tr>\n",
              "      <th>49210</th>\n",
              "      <td>0.55</td>\n",
              "      <td>Ideal</td>\n",
              "      <td>E</td>\n",
              "      <td>VS1</td>\n",
              "      <td>61.7</td>\n",
              "      <td>55.0</td>\n",
              "      <td>2079</td>\n",
              "      <td>5.29</td>\n",
              "      <td>5.27</td>\n",
              "      <td>3.26</td>\n",
              "    </tr>\n",
              "    <tr>\n",
              "      <th>52604</th>\n",
              "      <td>0.71</td>\n",
              "      <td>Ideal</td>\n",
              "      <td>G</td>\n",
              "      <td>VS2</td>\n",
              "      <td>62.5</td>\n",
              "      <td>56.0</td>\n",
              "      <td>2543</td>\n",
              "      <td>5.67</td>\n",
              "      <td>5.72</td>\n",
              "      <td>3.56</td>\n",
              "    </tr>\n",
              "    <tr>\n",
              "      <th>17711</th>\n",
              "      <td>0.41</td>\n",
              "      <td>Ideal</td>\n",
              "      <td>J</td>\n",
              "      <td>VS2</td>\n",
              "      <td>62.4</td>\n",
              "      <td>55.0</td>\n",
              "      <td>613</td>\n",
              "      <td>4.75</td>\n",
              "      <td>4.77</td>\n",
              "      <td>2.97</td>\n",
              "    </tr>\n",
              "    <tr>\n",
              "      <th>23567</th>\n",
              "      <td>1.75</td>\n",
              "      <td>Ideal</td>\n",
              "      <td>G</td>\n",
              "      <td>SI2</td>\n",
              "      <td>61.6</td>\n",
              "      <td>54.8</td>\n",
              "      <td>11576</td>\n",
              "      <td>7.73</td>\n",
              "      <td>7.78</td>\n",
              "      <td>4.78</td>\n",
              "    </tr>\n",
              "    <tr>\n",
              "      <th>30947</th>\n",
              "      <td>0.32</td>\n",
              "      <td>Ideal</td>\n",
              "      <td>G</td>\n",
              "      <td>SI1</td>\n",
              "      <td>61.8</td>\n",
              "      <td>55.0</td>\n",
              "      <td>449</td>\n",
              "      <td>4.40</td>\n",
              "      <td>4.43</td>\n",
              "      <td>2.73</td>\n",
              "    </tr>\n",
              "    <tr>\n",
              "      <th>32001</th>\n",
              "      <td>0.28</td>\n",
              "      <td>Very Good</td>\n",
              "      <td>D</td>\n",
              "      <td>VVS2</td>\n",
              "      <td>62.2</td>\n",
              "      <td>52.0</td>\n",
              "      <td>777</td>\n",
              "      <td>4.21</td>\n",
              "      <td>4.25</td>\n",
              "      <td>2.63</td>\n",
              "    </tr>\n",
              "    <tr>\n",
              "      <th>11755</th>\n",
              "      <td>1.01</td>\n",
              "      <td>Very Good</td>\n",
              "      <td>F</td>\n",
              "      <td>SI1</td>\n",
              "      <td>62.4</td>\n",
              "      <td>60.0</td>\n",
              "      <td>5078</td>\n",
              "      <td>6.35</td>\n",
              "      <td>6.40</td>\n",
              "      <td>3.98</td>\n",
              "    </tr>\n",
              "    <tr>\n",
              "      <th>40716</th>\n",
              "      <td>0.59</td>\n",
              "      <td>Very Good</td>\n",
              "      <td>H</td>\n",
              "      <td>SI2</td>\n",
              "      <td>60.3</td>\n",
              "      <td>56.0</td>\n",
              "      <td>1160</td>\n",
              "      <td>5.43</td>\n",
              "      <td>5.48</td>\n",
              "      <td>3.29</td>\n",
              "    </tr>\n",
              "    <tr>\n",
              "      <th>12643</th>\n",
              "      <td>1.01</td>\n",
              "      <td>Premium</td>\n",
              "      <td>H</td>\n",
              "      <td>VS1</td>\n",
              "      <td>61.2</td>\n",
              "      <td>61.0</td>\n",
              "      <td>5294</td>\n",
              "      <td>6.44</td>\n",
              "      <td>6.41</td>\n",
              "      <td>3.93</td>\n",
              "    </tr>\n",
              "    <tr>\n",
              "      <th>9061</th>\n",
              "      <td>0.90</td>\n",
              "      <td>Premium</td>\n",
              "      <td>I</td>\n",
              "      <td>IF</td>\n",
              "      <td>62.6</td>\n",
              "      <td>59.0</td>\n",
              "      <td>4516</td>\n",
              "      <td>6.15</td>\n",
              "      <td>6.12</td>\n",
              "      <td>3.84</td>\n",
              "    </tr>\n",
              "  </tbody>\n",
              "</table>\n",
              "</div>"
            ],
            "text/plain": [
              "       carat        cut color clarity  depth  table  price     x     y     z\n",
              "49210   0.55      Ideal     E     VS1   61.7   55.0   2079  5.29  5.27  3.26\n",
              "52604   0.71      Ideal     G     VS2   62.5   56.0   2543  5.67  5.72  3.56\n",
              "17711   0.41      Ideal     J     VS2   62.4   55.0    613  4.75  4.77  2.97\n",
              "23567   1.75      Ideal     G     SI2   61.6   54.8  11576  7.73  7.78  4.78\n",
              "30947   0.32      Ideal     G     SI1   61.8   55.0    449  4.40  4.43  2.73\n",
              "32001   0.28  Very Good     D    VVS2   62.2   52.0    777  4.21  4.25  2.63\n",
              "11755   1.01  Very Good     F     SI1   62.4   60.0   5078  6.35  6.40  3.98\n",
              "40716   0.59  Very Good     H     SI2   60.3   56.0   1160  5.43  5.48  3.29\n",
              "12643   1.01    Premium     H     VS1   61.2   61.0   5294  6.44  6.41  3.93\n",
              "9061    0.90    Premium     I      IF   62.6   59.0   4516  6.15  6.12  3.84"
            ]
          },
          "metadata": {
            "tags": []
          },
          "execution_count": 211
        }
      ]
    },
    {
      "cell_type": "markdown",
      "metadata": {
        "id": "Fo2geOTMPnFk"
      },
      "source": [
        "Here we can see 0.5 values so let the variable be as float"
      ]
    },
    {
      "cell_type": "code",
      "metadata": {
        "colab": {
          "base_uri": "https://localhost:8080/"
        },
        "id": "nkQUASVl6ya2",
        "outputId": "1da7a2e1-8636-4f72-8d5f-2e8974b135d2"
      },
      "source": [
        "df['cut'].value_counts()"
      ],
      "execution_count": null,
      "outputs": [
        {
          "output_type": "execute_result",
          "data": {
            "text/plain": [
              "Ideal        21551\n",
              "Premium      13791\n",
              "Very Good    12082\n",
              "Good          4906\n",
              "Fair          1610\n",
              "Name: cut, dtype: int64"
            ]
          },
          "metadata": {
            "tags": []
          },
          "execution_count": 212
        }
      ]
    },
    {
      "cell_type": "code",
      "metadata": {
        "colab": {
          "base_uri": "https://localhost:8080/"
        },
        "id": "9FtTuEupM3bD",
        "outputId": "a246cdd1-2f7a-497d-a8d9-b66a755cb280"
      },
      "source": [
        "df['clarity'].value_counts()"
      ],
      "execution_count": null,
      "outputs": [
        {
          "output_type": "execute_result",
          "data": {
            "text/plain": [
              "SI1     13065\n",
              "VS2     12258\n",
              "SI2      9194\n",
              "VS1      8171\n",
              "VVS2     5066\n",
              "VVS1     3655\n",
              "IF       1790\n",
              "I1        741\n",
              "Name: clarity, dtype: int64"
            ]
          },
          "metadata": {
            "tags": []
          },
          "execution_count": 213
        }
      ]
    },
    {
      "cell_type": "markdown",
      "metadata": {
        "id": "mZEXuybyNLHm"
      },
      "source": [
        "combining VVS2, VVS1, IF, I1 to normalize the categories and naming as \"OTHER\""
      ]
    },
    {
      "cell_type": "code",
      "metadata": {
        "id": "6cpRRDqLNIsy"
      },
      "source": [
        "df['clarity']=df['clarity'].replace(['VVS2','VVS1','IF','I1'], 'OTHER')"
      ],
      "execution_count": null,
      "outputs": []
    },
    {
      "cell_type": "code",
      "metadata": {
        "colab": {
          "base_uri": "https://localhost:8080/"
        },
        "id": "suBFsSe8NIwK",
        "outputId": "e4685bcd-a9a5-47da-8efa-639318a41e25"
      },
      "source": [
        "df['clarity'].value_counts()"
      ],
      "execution_count": null,
      "outputs": [
        {
          "output_type": "execute_result",
          "data": {
            "text/plain": [
              "SI1      13065\n",
              "VS2      12258\n",
              "OTHER    11252\n",
              "SI2       9194\n",
              "VS1       8171\n",
              "Name: clarity, dtype: int64"
            ]
          },
          "metadata": {
            "tags": []
          },
          "execution_count": 215
        }
      ]
    },
    {
      "cell_type": "code",
      "metadata": {
        "colab": {
          "base_uri": "https://localhost:8080/"
        },
        "id": "PB1AY6AX6yeB",
        "outputId": "cbc74b14-72a5-4e91-edd0-0f4645ad9e3a"
      },
      "source": [
        "df['color'].value_counts()"
      ],
      "execution_count": null,
      "outputs": [
        {
          "output_type": "execute_result",
          "data": {
            "text/plain": [
              "G    11292\n",
              "E     9797\n",
              "F     9542\n",
              "H     8304\n",
              "D     6775\n",
              "I     5422\n",
              "J     2808\n",
              "Name: color, dtype: int64"
            ]
          },
          "metadata": {
            "tags": []
          },
          "execution_count": 216
        }
      ]
    },
    {
      "cell_type": "markdown",
      "metadata": {
        "id": "cIzP4hN_BKN6"
      },
      "source": [
        "combining color I and J as combining I and J will have same level of distribution as other categories."
      ]
    },
    {
      "cell_type": "code",
      "metadata": {
        "id": "WQcsa5bi6yhh",
        "colab": {
          "base_uri": "https://localhost:8080/"
        },
        "outputId": "4642a912-92fa-47d1-e618-19b4a234439f"
      },
      "source": [
        "df.color[df.color == 'J'] = \"I\""
      ],
      "execution_count": null,
      "outputs": [
        {
          "output_type": "stream",
          "text": [
            "/usr/local/lib/python3.6/dist-packages/ipykernel_launcher.py:1: SettingWithCopyWarning: \n",
            "A value is trying to be set on a copy of a slice from a DataFrame\n",
            "\n",
            "See the caveats in the documentation: https://pandas.pydata.org/pandas-docs/stable/user_guide/indexing.html#returning-a-view-versus-a-copy\n",
            "  \"\"\"Entry point for launching an IPython kernel.\n"
          ],
          "name": "stderr"
        }
      ]
    },
    {
      "cell_type": "code",
      "metadata": {
        "colab": {
          "base_uri": "https://localhost:8080/"
        },
        "id": "r2oKkdiP6ykf",
        "outputId": "e3e10800-236f-4f0f-bdb5-3f0f51f81b1d"
      },
      "source": [
        "df['color'].value_counts()"
      ],
      "execution_count": null,
      "outputs": [
        {
          "output_type": "execute_result",
          "data": {
            "text/plain": [
              "G    11292\n",
              "E     9797\n",
              "F     9542\n",
              "H     8304\n",
              "I     8230\n",
              "D     6775\n",
              "Name: color, dtype: int64"
            ]
          },
          "metadata": {
            "tags": []
          },
          "execution_count": 218
        }
      ]
    },
    {
      "cell_type": "markdown",
      "metadata": {
        "id": "PRnw9MBiQ2Sx"
      },
      "source": [
        "performing dummy encoding for categorical variables cut, clarity and color"
      ]
    },
    {
      "cell_type": "code",
      "metadata": {
        "id": "a95QUHMSQ0ly"
      },
      "source": [
        "df = pd.get_dummies(df, columns=['cut', 'clarity', 'color'])"
      ],
      "execution_count": null,
      "outputs": []
    },
    {
      "cell_type": "code",
      "metadata": {
        "colab": {
          "base_uri": "https://localhost:8080/",
          "height": 240
        },
        "id": "hFbkXSbIREu0",
        "outputId": "20cc6883-7f1f-4704-cd46-fc2bf7792e13"
      },
      "source": [
        "df.head()"
      ],
      "execution_count": null,
      "outputs": [
        {
          "output_type": "execute_result",
          "data": {
            "text/html": [
              "<div>\n",
              "<style scoped>\n",
              "    .dataframe tbody tr th:only-of-type {\n",
              "        vertical-align: middle;\n",
              "    }\n",
              "\n",
              "    .dataframe tbody tr th {\n",
              "        vertical-align: top;\n",
              "    }\n",
              "\n",
              "    .dataframe thead th {\n",
              "        text-align: right;\n",
              "    }\n",
              "</style>\n",
              "<table border=\"1\" class=\"dataframe\">\n",
              "  <thead>\n",
              "    <tr style=\"text-align: right;\">\n",
              "      <th></th>\n",
              "      <th>carat</th>\n",
              "      <th>depth</th>\n",
              "      <th>table</th>\n",
              "      <th>price</th>\n",
              "      <th>x</th>\n",
              "      <th>y</th>\n",
              "      <th>z</th>\n",
              "      <th>cut_Fair</th>\n",
              "      <th>cut_Good</th>\n",
              "      <th>cut_Ideal</th>\n",
              "      <th>cut_Premium</th>\n",
              "      <th>cut_Very Good</th>\n",
              "      <th>clarity_OTHER</th>\n",
              "      <th>clarity_SI1</th>\n",
              "      <th>clarity_SI2</th>\n",
              "      <th>clarity_VS1</th>\n",
              "      <th>clarity_VS2</th>\n",
              "      <th>color_D</th>\n",
              "      <th>color_E</th>\n",
              "      <th>color_F</th>\n",
              "      <th>color_G</th>\n",
              "      <th>color_H</th>\n",
              "      <th>color_I</th>\n",
              "    </tr>\n",
              "  </thead>\n",
              "  <tbody>\n",
              "    <tr>\n",
              "      <th>1</th>\n",
              "      <td>0.23</td>\n",
              "      <td>61.5</td>\n",
              "      <td>55.0</td>\n",
              "      <td>326</td>\n",
              "      <td>3.95</td>\n",
              "      <td>3.98</td>\n",
              "      <td>2.43</td>\n",
              "      <td>0</td>\n",
              "      <td>0</td>\n",
              "      <td>1</td>\n",
              "      <td>0</td>\n",
              "      <td>0</td>\n",
              "      <td>0</td>\n",
              "      <td>0</td>\n",
              "      <td>1</td>\n",
              "      <td>0</td>\n",
              "      <td>0</td>\n",
              "      <td>0</td>\n",
              "      <td>1</td>\n",
              "      <td>0</td>\n",
              "      <td>0</td>\n",
              "      <td>0</td>\n",
              "      <td>0</td>\n",
              "    </tr>\n",
              "    <tr>\n",
              "      <th>2</th>\n",
              "      <td>0.21</td>\n",
              "      <td>59.8</td>\n",
              "      <td>61.0</td>\n",
              "      <td>326</td>\n",
              "      <td>3.89</td>\n",
              "      <td>3.84</td>\n",
              "      <td>2.31</td>\n",
              "      <td>0</td>\n",
              "      <td>0</td>\n",
              "      <td>0</td>\n",
              "      <td>1</td>\n",
              "      <td>0</td>\n",
              "      <td>0</td>\n",
              "      <td>1</td>\n",
              "      <td>0</td>\n",
              "      <td>0</td>\n",
              "      <td>0</td>\n",
              "      <td>0</td>\n",
              "      <td>1</td>\n",
              "      <td>0</td>\n",
              "      <td>0</td>\n",
              "      <td>0</td>\n",
              "      <td>0</td>\n",
              "    </tr>\n",
              "    <tr>\n",
              "      <th>3</th>\n",
              "      <td>0.23</td>\n",
              "      <td>56.9</td>\n",
              "      <td>65.0</td>\n",
              "      <td>327</td>\n",
              "      <td>4.05</td>\n",
              "      <td>4.07</td>\n",
              "      <td>2.31</td>\n",
              "      <td>0</td>\n",
              "      <td>1</td>\n",
              "      <td>0</td>\n",
              "      <td>0</td>\n",
              "      <td>0</td>\n",
              "      <td>0</td>\n",
              "      <td>0</td>\n",
              "      <td>0</td>\n",
              "      <td>1</td>\n",
              "      <td>0</td>\n",
              "      <td>0</td>\n",
              "      <td>1</td>\n",
              "      <td>0</td>\n",
              "      <td>0</td>\n",
              "      <td>0</td>\n",
              "      <td>0</td>\n",
              "    </tr>\n",
              "    <tr>\n",
              "      <th>4</th>\n",
              "      <td>0.29</td>\n",
              "      <td>62.4</td>\n",
              "      <td>58.0</td>\n",
              "      <td>334</td>\n",
              "      <td>4.20</td>\n",
              "      <td>4.23</td>\n",
              "      <td>2.63</td>\n",
              "      <td>0</td>\n",
              "      <td>0</td>\n",
              "      <td>0</td>\n",
              "      <td>1</td>\n",
              "      <td>0</td>\n",
              "      <td>0</td>\n",
              "      <td>0</td>\n",
              "      <td>0</td>\n",
              "      <td>0</td>\n",
              "      <td>1</td>\n",
              "      <td>0</td>\n",
              "      <td>0</td>\n",
              "      <td>0</td>\n",
              "      <td>0</td>\n",
              "      <td>0</td>\n",
              "      <td>1</td>\n",
              "    </tr>\n",
              "    <tr>\n",
              "      <th>5</th>\n",
              "      <td>0.31</td>\n",
              "      <td>63.3</td>\n",
              "      <td>58.0</td>\n",
              "      <td>335</td>\n",
              "      <td>4.34</td>\n",
              "      <td>4.35</td>\n",
              "      <td>2.75</td>\n",
              "      <td>0</td>\n",
              "      <td>1</td>\n",
              "      <td>0</td>\n",
              "      <td>0</td>\n",
              "      <td>0</td>\n",
              "      <td>0</td>\n",
              "      <td>0</td>\n",
              "      <td>1</td>\n",
              "      <td>0</td>\n",
              "      <td>0</td>\n",
              "      <td>0</td>\n",
              "      <td>0</td>\n",
              "      <td>0</td>\n",
              "      <td>0</td>\n",
              "      <td>0</td>\n",
              "      <td>1</td>\n",
              "    </tr>\n",
              "  </tbody>\n",
              "</table>\n",
              "</div>"
            ],
            "text/plain": [
              "   carat  depth  table  price  ...  color_F  color_G  color_H  color_I\n",
              "1   0.23   61.5   55.0    326  ...        0        0        0        0\n",
              "2   0.21   59.8   61.0    326  ...        0        0        0        0\n",
              "3   0.23   56.9   65.0    327  ...        0        0        0        0\n",
              "4   0.29   62.4   58.0    334  ...        0        0        0        1\n",
              "5   0.31   63.3   58.0    335  ...        0        0        0        1\n",
              "\n",
              "[5 rows x 23 columns]"
            ]
          },
          "metadata": {
            "tags": []
          },
          "execution_count": 220
        }
      ]
    },
    {
      "cell_type": "markdown",
      "metadata": {
        "id": "PVCdxRcFRYtR"
      },
      "source": [
        "Checking correlation"
      ]
    },
    {
      "cell_type": "code",
      "metadata": {
        "colab": {
          "base_uri": "https://localhost:8080/",
          "height": 811
        },
        "id": "iHErhsHa346X",
        "outputId": "c09a089c-7386-4801-f07d-0f75f50d3719"
      },
      "source": [
        "df.corr()"
      ],
      "execution_count": null,
      "outputs": [
        {
          "output_type": "execute_result",
          "data": {
            "text/html": [
              "<div>\n",
              "<style scoped>\n",
              "    .dataframe tbody tr th:only-of-type {\n",
              "        vertical-align: middle;\n",
              "    }\n",
              "\n",
              "    .dataframe tbody tr th {\n",
              "        vertical-align: top;\n",
              "    }\n",
              "\n",
              "    .dataframe thead th {\n",
              "        text-align: right;\n",
              "    }\n",
              "</style>\n",
              "<table border=\"1\" class=\"dataframe\">\n",
              "  <thead>\n",
              "    <tr style=\"text-align: right;\">\n",
              "      <th></th>\n",
              "      <th>carat</th>\n",
              "      <th>depth</th>\n",
              "      <th>table</th>\n",
              "      <th>price</th>\n",
              "      <th>x</th>\n",
              "      <th>y</th>\n",
              "      <th>z</th>\n",
              "      <th>cut_Fair</th>\n",
              "      <th>cut_Good</th>\n",
              "      <th>cut_Ideal</th>\n",
              "      <th>cut_Premium</th>\n",
              "      <th>cut_Very Good</th>\n",
              "      <th>clarity_OTHER</th>\n",
              "      <th>clarity_SI1</th>\n",
              "      <th>clarity_SI2</th>\n",
              "      <th>clarity_VS1</th>\n",
              "      <th>clarity_VS2</th>\n",
              "      <th>color_D</th>\n",
              "      <th>color_E</th>\n",
              "      <th>color_F</th>\n",
              "      <th>color_G</th>\n",
              "      <th>color_H</th>\n",
              "      <th>color_I</th>\n",
              "    </tr>\n",
              "  </thead>\n",
              "  <tbody>\n",
              "    <tr>\n",
              "      <th>carat</th>\n",
              "      <td>1.000000</td>\n",
              "      <td>0.028224</td>\n",
              "      <td>0.181618</td>\n",
              "      <td>0.921591</td>\n",
              "      <td>0.975094</td>\n",
              "      <td>0.951722</td>\n",
              "      <td>0.953387</td>\n",
              "      <td>0.091844</td>\n",
              "      <td>0.034196</td>\n",
              "      <td>-0.163660</td>\n",
              "      <td>0.116245</td>\n",
              "      <td>0.009568</td>\n",
              "      <td>-0.217829</td>\n",
              "      <td>0.062669</td>\n",
              "      <td>0.267483</td>\n",
              "      <td>-0.063094</td>\n",
              "      <td>-0.038904</td>\n",
              "      <td>-0.112057</td>\n",
              "      <td>-0.139215</td>\n",
              "      <td>-0.060052</td>\n",
              "      <td>-0.029038</td>\n",
              "      <td>0.102465</td>\n",
              "      <td>0.246281</td>\n",
              "    </tr>\n",
              "    <tr>\n",
              "      <th>depth</th>\n",
              "      <td>0.028224</td>\n",
              "      <td>1.000000</td>\n",
              "      <td>-0.295779</td>\n",
              "      <td>-0.010647</td>\n",
              "      <td>-0.025289</td>\n",
              "      <td>-0.029341</td>\n",
              "      <td>0.094924</td>\n",
              "      <td>0.280657</td>\n",
              "      <td>0.136114</td>\n",
              "      <td>-0.022778</td>\n",
              "      <td>-0.198306</td>\n",
              "      <td>0.025828</td>\n",
              "      <td>-0.018709</td>\n",
              "      <td>0.040899</td>\n",
              "      <td>0.007202</td>\n",
              "      <td>-0.024169</td>\n",
              "      <td>-0.009459</td>\n",
              "      <td>-0.013566</td>\n",
              "      <td>-0.028713</td>\n",
              "      <td>-0.017741</td>\n",
              "      <td>0.002768</td>\n",
              "      <td>0.026037</td>\n",
              "      <td>0.032850</td>\n",
              "    </tr>\n",
              "    <tr>\n",
              "      <th>table</th>\n",
              "      <td>0.181618</td>\n",
              "      <td>-0.295779</td>\n",
              "      <td>1.000000</td>\n",
              "      <td>0.127134</td>\n",
              "      <td>0.195344</td>\n",
              "      <td>0.183760</td>\n",
              "      <td>0.150929</td>\n",
              "      <td>0.125332</td>\n",
              "      <td>0.175174</td>\n",
              "      <td>-0.549599</td>\n",
              "      <td>0.338072</td>\n",
              "      <td>0.119971</td>\n",
              "      <td>-0.109369</td>\n",
              "      <td>0.051959</td>\n",
              "      <td>0.095344</td>\n",
              "      <td>-0.026858</td>\n",
              "      <td>-0.009655</td>\n",
              "      <td>-0.008921</td>\n",
              "      <td>0.007172</td>\n",
              "      <td>-0.004906</td>\n",
              "      <td>-0.038815</td>\n",
              "      <td>0.011574</td>\n",
              "      <td>0.038039</td>\n",
              "    </tr>\n",
              "    <tr>\n",
              "      <th>price</th>\n",
              "      <td>0.921591</td>\n",
              "      <td>-0.010647</td>\n",
              "      <td>0.127134</td>\n",
              "      <td>1.000000</td>\n",
              "      <td>0.884435</td>\n",
              "      <td>0.865421</td>\n",
              "      <td>0.861249</td>\n",
              "      <td>0.018728</td>\n",
              "      <td>-0.000312</td>\n",
              "      <td>-0.097175</td>\n",
              "      <td>0.095706</td>\n",
              "      <td>0.006593</td>\n",
              "      <td>-0.118475</td>\n",
              "      <td>0.008957</td>\n",
              "      <td>0.128420</td>\n",
              "      <td>-0.009886</td>\n",
              "      <td>-0.001062</td>\n",
              "      <td>-0.072473</td>\n",
              "      <td>-0.101089</td>\n",
              "      <td>-0.024161</td>\n",
              "      <td>0.008556</td>\n",
              "      <td>0.059223</td>\n",
              "      <td>0.131699</td>\n",
              "    </tr>\n",
              "    <tr>\n",
              "      <th>x</th>\n",
              "      <td>0.975094</td>\n",
              "      <td>-0.025289</td>\n",
              "      <td>0.195344</td>\n",
              "      <td>0.884435</td>\n",
              "      <td>1.000000</td>\n",
              "      <td>0.974701</td>\n",
              "      <td>0.970772</td>\n",
              "      <td>0.080644</td>\n",
              "      <td>0.030349</td>\n",
              "      <td>-0.162674</td>\n",
              "      <td>0.126820</td>\n",
              "      <td>0.004569</td>\n",
              "      <td>-0.244736</td>\n",
              "      <td>0.079241</td>\n",
              "      <td>0.270827</td>\n",
              "      <td>-0.059882</td>\n",
              "      <td>-0.035507</td>\n",
              "      <td>-0.106127</td>\n",
              "      <td>-0.134213</td>\n",
              "      <td>-0.048021</td>\n",
              "      <td>-0.024593</td>\n",
              "      <td>0.095896</td>\n",
              "      <td>0.224250</td>\n",
              "    </tr>\n",
              "    <tr>\n",
              "      <th>y</th>\n",
              "      <td>0.951722</td>\n",
              "      <td>-0.029341</td>\n",
              "      <td>0.183760</td>\n",
              "      <td>0.865421</td>\n",
              "      <td>0.974701</td>\n",
              "      <td>1.000000</td>\n",
              "      <td>0.952006</td>\n",
              "      <td>0.068822</td>\n",
              "      <td>0.032187</td>\n",
              "      <td>-0.153158</td>\n",
              "      <td>0.107943</td>\n",
              "      <td>0.016699</td>\n",
              "      <td>-0.236970</td>\n",
              "      <td>0.076097</td>\n",
              "      <td>0.263252</td>\n",
              "      <td>-0.056490</td>\n",
              "      <td>-0.035928</td>\n",
              "      <td>-0.103999</td>\n",
              "      <td>-0.130136</td>\n",
              "      <td>-0.046707</td>\n",
              "      <td>-0.024479</td>\n",
              "      <td>0.093480</td>\n",
              "      <td>0.218818</td>\n",
              "    </tr>\n",
              "    <tr>\n",
              "      <th>z</th>\n",
              "      <td>0.953387</td>\n",
              "      <td>0.094924</td>\n",
              "      <td>0.150929</td>\n",
              "      <td>0.861249</td>\n",
              "      <td>0.970772</td>\n",
              "      <td>0.952006</td>\n",
              "      <td>1.000000</td>\n",
              "      <td>0.110367</td>\n",
              "      <td>0.045169</td>\n",
              "      <td>-0.158688</td>\n",
              "      <td>0.090019</td>\n",
              "      <td>0.016039</td>\n",
              "      <td>-0.239906</td>\n",
              "      <td>0.081005</td>\n",
              "      <td>0.263192</td>\n",
              "      <td>-0.058513</td>\n",
              "      <td>-0.036314</td>\n",
              "      <td>-0.105216</td>\n",
              "      <td>-0.132210</td>\n",
              "      <td>-0.048803</td>\n",
              "      <td>-0.024582</td>\n",
              "      <td>0.095041</td>\n",
              "      <td>0.222936</td>\n",
              "    </tr>\n",
              "    <tr>\n",
              "      <th>cut_Fair</th>\n",
              "      <td>0.091844</td>\n",
              "      <td>0.280657</td>\n",
              "      <td>0.125332</td>\n",
              "      <td>0.018728</td>\n",
              "      <td>0.080644</td>\n",
              "      <td>0.068822</td>\n",
              "      <td>0.110367</td>\n",
              "      <td>1.000000</td>\n",
              "      <td>-0.055482</td>\n",
              "      <td>-0.143078</td>\n",
              "      <td>-0.102801</td>\n",
              "      <td>-0.094236</td>\n",
              "      <td>-0.008272</td>\n",
              "      <td>0.004587</td>\n",
              "      <td>0.055506</td>\n",
              "      <td>-0.022453</td>\n",
              "      <td>-0.027266</td>\n",
              "      <td>-0.012893</td>\n",
              "      <td>-0.019334</td>\n",
              "      <td>0.007763</td>\n",
              "      <td>-0.006171</td>\n",
              "      <td>0.016646</td>\n",
              "      <td>0.014650</td>\n",
              "    </tr>\n",
              "    <tr>\n",
              "      <th>cut_Good</th>\n",
              "      <td>0.034196</td>\n",
              "      <td>0.136114</td>\n",
              "      <td>0.175174</td>\n",
              "      <td>-0.000312</td>\n",
              "      <td>0.030349</td>\n",
              "      <td>0.032187</td>\n",
              "      <td>0.045169</td>\n",
              "      <td>-0.055482</td>\n",
              "      <td>1.000000</td>\n",
              "      <td>-0.258018</td>\n",
              "      <td>-0.185385</td>\n",
              "      <td>-0.169940</td>\n",
              "      <td>-0.060998</td>\n",
              "      <td>0.055938</td>\n",
              "      <td>0.041970</td>\n",
              "      <td>-0.017116</td>\n",
              "      <td>-0.021063</td>\n",
              "      <td>0.008909</td>\n",
              "      <td>0.007013</td>\n",
              "      <td>0.006949</td>\n",
              "      <td>-0.024729</td>\n",
              "      <td>-0.009517</td>\n",
              "      <td>0.014426</td>\n",
              "    </tr>\n",
              "    <tr>\n",
              "      <th>cut_Ideal</th>\n",
              "      <td>-0.163660</td>\n",
              "      <td>-0.022778</td>\n",
              "      <td>-0.549599</td>\n",
              "      <td>-0.097175</td>\n",
              "      <td>-0.162674</td>\n",
              "      <td>-0.153158</td>\n",
              "      <td>-0.158688</td>\n",
              "      <td>-0.143078</td>\n",
              "      <td>-0.258018</td>\n",
              "      <td>1.000000</td>\n",
              "      <td>-0.478074</td>\n",
              "      <td>-0.438243</td>\n",
              "      <td>0.141170</td>\n",
              "      <td>-0.082865</td>\n",
              "      <td>-0.108242</td>\n",
              "      <td>0.034247</td>\n",
              "      <td>0.015669</td>\n",
              "      <td>0.014521</td>\n",
              "      <td>-0.001105</td>\n",
              "      <td>0.001351</td>\n",
              "      <td>0.034649</td>\n",
              "      <td>-0.021264</td>\n",
              "      <td>-0.031493</td>\n",
              "    </tr>\n",
              "    <tr>\n",
              "      <th>cut_Premium</th>\n",
              "      <td>0.116245</td>\n",
              "      <td>-0.198306</td>\n",
              "      <td>0.338072</td>\n",
              "      <td>0.095706</td>\n",
              "      <td>0.126820</td>\n",
              "      <td>0.107943</td>\n",
              "      <td>0.090019</td>\n",
              "      <td>-0.102801</td>\n",
              "      <td>-0.185385</td>\n",
              "      <td>-0.478074</td>\n",
              "      <td>1.000000</td>\n",
              "      <td>-0.314877</td>\n",
              "      <td>-0.099975</td>\n",
              "      <td>0.023275</td>\n",
              "      <td>0.067623</td>\n",
              "      <td>-0.011866</td>\n",
              "      <td>0.022611</td>\n",
              "      <td>-0.016566</td>\n",
              "      <td>-0.018500</td>\n",
              "      <td>-0.012098</td>\n",
              "      <td>0.003859</td>\n",
              "      <td>0.027895</td>\n",
              "      <td>0.015578</td>\n",
              "    </tr>\n",
              "    <tr>\n",
              "      <th>cut_Very Good</th>\n",
              "      <td>0.009568</td>\n",
              "      <td>0.025828</td>\n",
              "      <td>0.119971</td>\n",
              "      <td>0.006593</td>\n",
              "      <td>0.004569</td>\n",
              "      <td>0.016699</td>\n",
              "      <td>0.016039</td>\n",
              "      <td>-0.094236</td>\n",
              "      <td>-0.169940</td>\n",
              "      <td>-0.438243</td>\n",
              "      <td>-0.314877</td>\n",
              "      <td>1.000000</td>\n",
              "      <td>-0.015796</td>\n",
              "      <td>0.032547</td>\n",
              "      <td>0.004806</td>\n",
              "      <td>-0.006849</td>\n",
              "      <td>-0.016412</td>\n",
              "      <td>-0.000608</td>\n",
              "      <td>0.023711</td>\n",
              "      <td>0.003110</td>\n",
              "      <td>-0.025171</td>\n",
              "      <td>-0.004437</td>\n",
              "      <td>0.004769</td>\n",
              "    </tr>\n",
              "    <tr>\n",
              "      <th>clarity_OTHER</th>\n",
              "      <td>-0.217829</td>\n",
              "      <td>-0.018709</td>\n",
              "      <td>-0.109369</td>\n",
              "      <td>-0.118475</td>\n",
              "      <td>-0.244736</td>\n",
              "      <td>-0.236970</td>\n",
              "      <td>-0.239906</td>\n",
              "      <td>-0.008272</td>\n",
              "      <td>-0.060998</td>\n",
              "      <td>0.141170</td>\n",
              "      <td>-0.099975</td>\n",
              "      <td>-0.015796</td>\n",
              "      <td>1.000000</td>\n",
              "      <td>-0.290260</td>\n",
              "      <td>-0.232722</td>\n",
              "      <td>-0.216927</td>\n",
              "      <td>-0.278418</td>\n",
              "      <td>-0.067916</td>\n",
              "      <td>-0.016175</td>\n",
              "      <td>0.029478</td>\n",
              "      <td>0.102896</td>\n",
              "      <td>-0.009891</td>\n",
              "      <td>-0.057837</td>\n",
              "    </tr>\n",
              "    <tr>\n",
              "      <th>clarity_SI1</th>\n",
              "      <td>0.062669</td>\n",
              "      <td>0.040899</td>\n",
              "      <td>0.051959</td>\n",
              "      <td>0.008957</td>\n",
              "      <td>0.079241</td>\n",
              "      <td>0.076097</td>\n",
              "      <td>0.081005</td>\n",
              "      <td>0.004587</td>\n",
              "      <td>0.055938</td>\n",
              "      <td>-0.082865</td>\n",
              "      <td>0.023275</td>\n",
              "      <td>0.032547</td>\n",
              "      <td>-0.290260</td>\n",
              "      <td>1.000000</td>\n",
              "      <td>-0.256272</td>\n",
              "      <td>-0.238879</td>\n",
              "      <td>-0.306592</td>\n",
              "      <td>0.057715</td>\n",
              "      <td>0.005953</td>\n",
              "      <td>-0.020436</td>\n",
              "      <td>-0.080738</td>\n",
              "      <td>0.031613</td>\n",
              "      <td>0.021732</td>\n",
              "    </tr>\n",
              "    <tr>\n",
              "      <th>clarity_SI2</th>\n",
              "      <td>0.267483</td>\n",
              "      <td>0.007202</td>\n",
              "      <td>0.095344</td>\n",
              "      <td>0.128420</td>\n",
              "      <td>0.270827</td>\n",
              "      <td>0.263252</td>\n",
              "      <td>0.263192</td>\n",
              "      <td>0.055506</td>\n",
              "      <td>0.041970</td>\n",
              "      <td>-0.108242</td>\n",
              "      <td>0.067623</td>\n",
              "      <td>0.004806</td>\n",
              "      <td>-0.232722</td>\n",
              "      <td>-0.256272</td>\n",
              "      <td>1.000000</td>\n",
              "      <td>-0.191526</td>\n",
              "      <td>-0.245816</td>\n",
              "      <td>0.032017</td>\n",
              "      <td>0.005514</td>\n",
              "      <td>-0.002251</td>\n",
              "      <td>-0.045651</td>\n",
              "      <td>0.020163</td>\n",
              "      <td>-0.001617</td>\n",
              "    </tr>\n",
              "    <tr>\n",
              "      <th>clarity_VS1</th>\n",
              "      <td>-0.063094</td>\n",
              "      <td>-0.024169</td>\n",
              "      <td>-0.026858</td>\n",
              "      <td>-0.009886</td>\n",
              "      <td>-0.059882</td>\n",
              "      <td>-0.056490</td>\n",
              "      <td>-0.058513</td>\n",
              "      <td>-0.022453</td>\n",
              "      <td>-0.017116</td>\n",
              "      <td>0.034247</td>\n",
              "      <td>-0.011866</td>\n",
              "      <td>-0.006849</td>\n",
              "      <td>-0.216927</td>\n",
              "      <td>-0.238879</td>\n",
              "      <td>-0.191526</td>\n",
              "      <td>1.000000</td>\n",
              "      <td>-0.229133</td>\n",
              "      <td>-0.050134</td>\n",
              "      <td>-0.027238</td>\n",
              "      <td>-0.011038</td>\n",
              "      <td>0.055601</td>\n",
              "      <td>-0.012740</td>\n",
              "      <td>0.037001</td>\n",
              "    </tr>\n",
              "    <tr>\n",
              "      <th>clarity_VS2</th>\n",
              "      <td>-0.038904</td>\n",
              "      <td>-0.009459</td>\n",
              "      <td>-0.009655</td>\n",
              "      <td>-0.001062</td>\n",
              "      <td>-0.035507</td>\n",
              "      <td>-0.035928</td>\n",
              "      <td>-0.036314</td>\n",
              "      <td>-0.027266</td>\n",
              "      <td>-0.021063</td>\n",
              "      <td>0.015669</td>\n",
              "      <td>0.022611</td>\n",
              "      <td>-0.016412</td>\n",
              "      <td>-0.278418</td>\n",
              "      <td>-0.306592</td>\n",
              "      <td>-0.245816</td>\n",
              "      <td>-0.229133</td>\n",
              "      <td>1.000000</td>\n",
              "      <td>0.021007</td>\n",
              "      <td>0.027954</td>\n",
              "      <td>0.003775</td>\n",
              "      <td>-0.023829</td>\n",
              "      <td>-0.029923</td>\n",
              "      <td>0.003656</td>\n",
              "    </tr>\n",
              "    <tr>\n",
              "      <th>color_D</th>\n",
              "      <td>-0.112057</td>\n",
              "      <td>-0.013566</td>\n",
              "      <td>-0.008921</td>\n",
              "      <td>-0.072473</td>\n",
              "      <td>-0.106127</td>\n",
              "      <td>-0.103999</td>\n",
              "      <td>-0.105216</td>\n",
              "      <td>-0.012893</td>\n",
              "      <td>0.008909</td>\n",
              "      <td>0.014521</td>\n",
              "      <td>-0.016566</td>\n",
              "      <td>-0.000608</td>\n",
              "      <td>-0.067916</td>\n",
              "      <td>0.057715</td>\n",
              "      <td>0.032017</td>\n",
              "      <td>-0.050134</td>\n",
              "      <td>0.021007</td>\n",
              "      <td>1.000000</td>\n",
              "      <td>-0.178550</td>\n",
              "      <td>-0.175704</td>\n",
              "      <td>-0.195021</td>\n",
              "      <td>-0.161672</td>\n",
              "      <td>-0.160820</td>\n",
              "    </tr>\n",
              "    <tr>\n",
              "      <th>color_E</th>\n",
              "      <td>-0.139215</td>\n",
              "      <td>-0.028713</td>\n",
              "      <td>0.007172</td>\n",
              "      <td>-0.101089</td>\n",
              "      <td>-0.134213</td>\n",
              "      <td>-0.130136</td>\n",
              "      <td>-0.132210</td>\n",
              "      <td>-0.019334</td>\n",
              "      <td>0.007013</td>\n",
              "      <td>-0.001105</td>\n",
              "      <td>-0.018500</td>\n",
              "      <td>0.023711</td>\n",
              "      <td>-0.016175</td>\n",
              "      <td>0.005953</td>\n",
              "      <td>0.005514</td>\n",
              "      <td>-0.027238</td>\n",
              "      <td>0.027954</td>\n",
              "      <td>-0.178550</td>\n",
              "      <td>1.000000</td>\n",
              "      <td>-0.218401</td>\n",
              "      <td>-0.242411</td>\n",
              "      <td>-0.200958</td>\n",
              "      <td>-0.199899</td>\n",
              "    </tr>\n",
              "    <tr>\n",
              "      <th>color_F</th>\n",
              "      <td>-0.060052</td>\n",
              "      <td>-0.017741</td>\n",
              "      <td>-0.004906</td>\n",
              "      <td>-0.024161</td>\n",
              "      <td>-0.048021</td>\n",
              "      <td>-0.046707</td>\n",
              "      <td>-0.048803</td>\n",
              "      <td>0.007763</td>\n",
              "      <td>0.006949</td>\n",
              "      <td>0.001351</td>\n",
              "      <td>-0.012098</td>\n",
              "      <td>0.003110</td>\n",
              "      <td>0.029478</td>\n",
              "      <td>-0.020436</td>\n",
              "      <td>-0.002251</td>\n",
              "      <td>-0.011038</td>\n",
              "      <td>0.003775</td>\n",
              "      <td>-0.175704</td>\n",
              "      <td>-0.218401</td>\n",
              "      <td>1.000000</td>\n",
              "      <td>-0.238547</td>\n",
              "      <td>-0.197755</td>\n",
              "      <td>-0.196713</td>\n",
              "    </tr>\n",
              "    <tr>\n",
              "      <th>color_G</th>\n",
              "      <td>-0.029038</td>\n",
              "      <td>0.002768</td>\n",
              "      <td>-0.038815</td>\n",
              "      <td>0.008556</td>\n",
              "      <td>-0.024593</td>\n",
              "      <td>-0.024479</td>\n",
              "      <td>-0.024582</td>\n",
              "      <td>-0.006171</td>\n",
              "      <td>-0.024729</td>\n",
              "      <td>0.034649</td>\n",
              "      <td>0.003859</td>\n",
              "      <td>-0.025171</td>\n",
              "      <td>0.102896</td>\n",
              "      <td>-0.080738</td>\n",
              "      <td>-0.045651</td>\n",
              "      <td>0.055601</td>\n",
              "      <td>-0.023829</td>\n",
              "      <td>-0.195021</td>\n",
              "      <td>-0.242411</td>\n",
              "      <td>-0.238547</td>\n",
              "      <td>1.000000</td>\n",
              "      <td>-0.219496</td>\n",
              "      <td>-0.218339</td>\n",
              "    </tr>\n",
              "    <tr>\n",
              "      <th>color_H</th>\n",
              "      <td>0.102465</td>\n",
              "      <td>0.026037</td>\n",
              "      <td>0.011574</td>\n",
              "      <td>0.059223</td>\n",
              "      <td>0.095896</td>\n",
              "      <td>0.093480</td>\n",
              "      <td>0.095041</td>\n",
              "      <td>0.016646</td>\n",
              "      <td>-0.009517</td>\n",
              "      <td>-0.021264</td>\n",
              "      <td>0.027895</td>\n",
              "      <td>-0.004437</td>\n",
              "      <td>-0.009891</td>\n",
              "      <td>0.031613</td>\n",
              "      <td>0.020163</td>\n",
              "      <td>-0.012740</td>\n",
              "      <td>-0.029923</td>\n",
              "      <td>-0.161672</td>\n",
              "      <td>-0.200958</td>\n",
              "      <td>-0.197755</td>\n",
              "      <td>-0.219496</td>\n",
              "      <td>1.000000</td>\n",
              "      <td>-0.181002</td>\n",
              "    </tr>\n",
              "    <tr>\n",
              "      <th>color_I</th>\n",
              "      <td>0.246281</td>\n",
              "      <td>0.032850</td>\n",
              "      <td>0.038039</td>\n",
              "      <td>0.131699</td>\n",
              "      <td>0.224250</td>\n",
              "      <td>0.218818</td>\n",
              "      <td>0.222936</td>\n",
              "      <td>0.014650</td>\n",
              "      <td>0.014426</td>\n",
              "      <td>-0.031493</td>\n",
              "      <td>0.015578</td>\n",
              "      <td>0.004769</td>\n",
              "      <td>-0.057837</td>\n",
              "      <td>0.021732</td>\n",
              "      <td>-0.001617</td>\n",
              "      <td>0.037001</td>\n",
              "      <td>0.003656</td>\n",
              "      <td>-0.160820</td>\n",
              "      <td>-0.199899</td>\n",
              "      <td>-0.196713</td>\n",
              "      <td>-0.218339</td>\n",
              "      <td>-0.181002</td>\n",
              "      <td>1.000000</td>\n",
              "    </tr>\n",
              "  </tbody>\n",
              "</table>\n",
              "</div>"
            ],
            "text/plain": [
              "                  carat     depth     table  ...   color_G   color_H   color_I\n",
              "carat          1.000000  0.028224  0.181618  ... -0.029038  0.102465  0.246281\n",
              "depth          0.028224  1.000000 -0.295779  ...  0.002768  0.026037  0.032850\n",
              "table          0.181618 -0.295779  1.000000  ... -0.038815  0.011574  0.038039\n",
              "price          0.921591 -0.010647  0.127134  ...  0.008556  0.059223  0.131699\n",
              "x              0.975094 -0.025289  0.195344  ... -0.024593  0.095896  0.224250\n",
              "y              0.951722 -0.029341  0.183760  ... -0.024479  0.093480  0.218818\n",
              "z              0.953387  0.094924  0.150929  ... -0.024582  0.095041  0.222936\n",
              "cut_Fair       0.091844  0.280657  0.125332  ... -0.006171  0.016646  0.014650\n",
              "cut_Good       0.034196  0.136114  0.175174  ... -0.024729 -0.009517  0.014426\n",
              "cut_Ideal     -0.163660 -0.022778 -0.549599  ...  0.034649 -0.021264 -0.031493\n",
              "cut_Premium    0.116245 -0.198306  0.338072  ...  0.003859  0.027895  0.015578\n",
              "cut_Very Good  0.009568  0.025828  0.119971  ... -0.025171 -0.004437  0.004769\n",
              "clarity_OTHER -0.217829 -0.018709 -0.109369  ...  0.102896 -0.009891 -0.057837\n",
              "clarity_SI1    0.062669  0.040899  0.051959  ... -0.080738  0.031613  0.021732\n",
              "clarity_SI2    0.267483  0.007202  0.095344  ... -0.045651  0.020163 -0.001617\n",
              "clarity_VS1   -0.063094 -0.024169 -0.026858  ...  0.055601 -0.012740  0.037001\n",
              "clarity_VS2   -0.038904 -0.009459 -0.009655  ... -0.023829 -0.029923  0.003656\n",
              "color_D       -0.112057 -0.013566 -0.008921  ... -0.195021 -0.161672 -0.160820\n",
              "color_E       -0.139215 -0.028713  0.007172  ... -0.242411 -0.200958 -0.199899\n",
              "color_F       -0.060052 -0.017741 -0.004906  ... -0.238547 -0.197755 -0.196713\n",
              "color_G       -0.029038  0.002768 -0.038815  ...  1.000000 -0.219496 -0.218339\n",
              "color_H        0.102465  0.026037  0.011574  ... -0.219496  1.000000 -0.181002\n",
              "color_I        0.246281  0.032850  0.038039  ... -0.218339 -0.181002  1.000000\n",
              "\n",
              "[23 rows x 23 columns]"
            ]
          },
          "metadata": {
            "tags": []
          },
          "execution_count": 221
        }
      ]
    },
    {
      "cell_type": "markdown",
      "metadata": {
        "id": "FlVDIXOJ67_7"
      },
      "source": [
        "by observing keenly we can see that price is correlated with x,y,z and upon looking those 4 variables w.r.t remaining variables it shows almost same correlation"
      ]
    },
    {
      "cell_type": "markdown",
      "metadata": {
        "id": "CTJpXXO99MKe"
      },
      "source": [
        "Lets check by analysing each variable and conclude later after linear regression"
      ]
    },
    {
      "cell_type": "markdown",
      "metadata": {
        "id": "TVbo3qoWLs_z"
      },
      "source": [
        "Performing visualizations"
      ]
    },
    {
      "cell_type": "code",
      "metadata": {
        "colab": {
          "base_uri": "https://localhost:8080/",
          "height": 1000
        },
        "id": "dQYlyn19Lqvt",
        "outputId": "098c80ff-1668-4624-daa7-3b66937d1ef9"
      },
      "source": [
        "sns.catplot(x = 'carat', kind = 'count', data = df)\n",
        "sns.catplot(x = 'depth', kind = 'count', data = df)\n",
        "sns.catplot(x = 'table', kind = 'count', data = df)\n",
        "sns.catplot(x = 'price', kind = 'count', data = df) # perfoming only for price because x,y,z,price are related as seen in correlation matrix"
      ],
      "execution_count": null,
      "outputs": [
        {
          "output_type": "execute_result",
          "data": {
            "text/plain": [
              "<seaborn.axisgrid.FacetGrid at 0x7f88b0ffabe0>"
            ]
          },
          "metadata": {
            "tags": []
          },
          "execution_count": 222
        },
        {
          "output_type": "display_data",
          "data": {
            "image/png": "[encoded data removed]",
            "text/plain": [
              "<Figure size 360x360 with 1 Axes>"
            ]
          },
          "metadata": {
            "tags": [],
            "needs_background": "light"
          }
        },
        {
          "output_type": "display_data",
          "data": {
            "image/png": "[encoded data removed]",
            "text/plain": [
              "<Figure size 360x360 with 1 Axes>"
            ]
          },
          "metadata": {
            "tags": [],
            "needs_background": "light"
          }
        },
        {
          "output_type": "display_data",
          "data": {
            "image/png": "[encoded data removed]",
            "text/plain": [
              "<Figure size 360x360 with 1 Axes>"
            ]
          },
          "metadata": {
            "tags": [],
            "needs_background": "light"
          }
        },
        {
          "output_type": "display_data",
          "data": {
            "image/png": "[encoded data removed]",
            "text/plain": [
              "<Figure size 360x360 with 1 Axes>"
            ]
          },
          "metadata": {
            "tags": [],
            "needs_background": "light"
          }
        }
      ]
    },
    {
      "cell_type": "markdown",
      "metadata": {
        "id": "9DAZ1oioQT7f"
      },
      "source": [
        "From plots we can see depth and table are almost normalized but price and carat are right skewed. So based on price x,y,z are also right skewed"
      ]
    },
    {
      "cell_type": "markdown",
      "metadata": {
        "id": "YdzF2R17R38o"
      },
      "source": [
        "Preparing dataset for modelling splitting target variable and predictors"
      ]
    },
    {
      "cell_type": "code",
      "metadata": {
        "colab": {
          "base_uri": "https://localhost:8080/",
          "height": 240
        },
        "id": "BvvKXY6iR8Uz",
        "outputId": "e78a2270-81ef-4ed8-ea96-b2aff8800040"
      },
      "source": [
        "X = df.drop('price',1)\n",
        "X.head()"
      ],
      "execution_count": null,
      "outputs": [
        {
          "output_type": "execute_result",
          "data": {
            "text/html": [
              "<div>\n",
              "<style scoped>\n",
              "    .dataframe tbody tr th:only-of-type {\n",
              "        vertical-align: middle;\n",
              "    }\n",
              "\n",
              "    .dataframe tbody tr th {\n",
              "        vertical-align: top;\n",
              "    }\n",
              "\n",
              "    .dataframe thead th {\n",
              "        text-align: right;\n",
              "    }\n",
              "</style>\n",
              "<table border=\"1\" class=\"dataframe\">\n",
              "  <thead>\n",
              "    <tr style=\"text-align: right;\">\n",
              "      <th></th>\n",
              "      <th>carat</th>\n",
              "      <th>depth</th>\n",
              "      <th>table</th>\n",
              "      <th>x</th>\n",
              "      <th>y</th>\n",
              "      <th>z</th>\n",
              "      <th>cut_Fair</th>\n",
              "      <th>cut_Good</th>\n",
              "      <th>cut_Ideal</th>\n",
              "      <th>cut_Premium</th>\n",
              "      <th>cut_Very Good</th>\n",
              "      <th>clarity_OTHER</th>\n",
              "      <th>clarity_SI1</th>\n",
              "      <th>clarity_SI2</th>\n",
              "      <th>clarity_VS1</th>\n",
              "      <th>clarity_VS2</th>\n",
              "      <th>color_D</th>\n",
              "      <th>color_E</th>\n",
              "      <th>color_F</th>\n",
              "      <th>color_G</th>\n",
              "      <th>color_H</th>\n",
              "      <th>color_I</th>\n",
              "    </tr>\n",
              "  </thead>\n",
              "  <tbody>\n",
              "    <tr>\n",
              "      <th>1</th>\n",
              "      <td>0.23</td>\n",
              "      <td>61.5</td>\n",
              "      <td>55.0</td>\n",
              "      <td>3.95</td>\n",
              "      <td>3.98</td>\n",
              "      <td>2.43</td>\n",
              "      <td>0</td>\n",
              "      <td>0</td>\n",
              "      <td>1</td>\n",
              "      <td>0</td>\n",
              "      <td>0</td>\n",
              "      <td>0</td>\n",
              "      <td>0</td>\n",
              "      <td>1</td>\n",
              "      <td>0</td>\n",
              "      <td>0</td>\n",
              "      <td>0</td>\n",
              "      <td>1</td>\n",
              "      <td>0</td>\n",
              "      <td>0</td>\n",
              "      <td>0</td>\n",
              "      <td>0</td>\n",
              "    </tr>\n",
              "    <tr>\n",
              "      <th>2</th>\n",
              "      <td>0.21</td>\n",
              "      <td>59.8</td>\n",
              "      <td>61.0</td>\n",
              "      <td>3.89</td>\n",
              "      <td>3.84</td>\n",
              "      <td>2.31</td>\n",
              "      <td>0</td>\n",
              "      <td>0</td>\n",
              "      <td>0</td>\n",
              "      <td>1</td>\n",
              "      <td>0</td>\n",
              "      <td>0</td>\n",
              "      <td>1</td>\n",
              "      <td>0</td>\n",
              "      <td>0</td>\n",
              "      <td>0</td>\n",
              "      <td>0</td>\n",
              "      <td>1</td>\n",
              "      <td>0</td>\n",
              "      <td>0</td>\n",
              "      <td>0</td>\n",
              "      <td>0</td>\n",
              "    </tr>\n",
              "    <tr>\n",
              "      <th>3</th>\n",
              "      <td>0.23</td>\n",
              "      <td>56.9</td>\n",
              "      <td>65.0</td>\n",
              "      <td>4.05</td>\n",
              "      <td>4.07</td>\n",
              "      <td>2.31</td>\n",
              "      <td>0</td>\n",
              "      <td>1</td>\n",
              "      <td>0</td>\n",
              "      <td>0</td>\n",
              "      <td>0</td>\n",
              "      <td>0</td>\n",
              "      <td>0</td>\n",
              "      <td>0</td>\n",
              "      <td>1</td>\n",
              "      <td>0</td>\n",
              "      <td>0</td>\n",
              "      <td>1</td>\n",
              "      <td>0</td>\n",
              "      <td>0</td>\n",
              "      <td>0</td>\n",
              "      <td>0</td>\n",
              "    </tr>\n",
              "    <tr>\n",
              "      <th>4</th>\n",
              "      <td>0.29</td>\n",
              "      <td>62.4</td>\n",
              "      <td>58.0</td>\n",
              "      <td>4.20</td>\n",
              "      <td>4.23</td>\n",
              "      <td>2.63</td>\n",
              "      <td>0</td>\n",
              "      <td>0</td>\n",
              "      <td>0</td>\n",
              "      <td>1</td>\n",
              "      <td>0</td>\n",
              "      <td>0</td>\n",
              "      <td>0</td>\n",
              "      <td>0</td>\n",
              "      <td>0</td>\n",
              "      <td>1</td>\n",
              "      <td>0</td>\n",
              "      <td>0</td>\n",
              "      <td>0</td>\n",
              "      <td>0</td>\n",
              "      <td>0</td>\n",
              "      <td>1</td>\n",
              "    </tr>\n",
              "    <tr>\n",
              "      <th>5</th>\n",
              "      <td>0.31</td>\n",
              "      <td>63.3</td>\n",
              "      <td>58.0</td>\n",
              "      <td>4.34</td>\n",
              "      <td>4.35</td>\n",
              "      <td>2.75</td>\n",
              "      <td>0</td>\n",
              "      <td>1</td>\n",
              "      <td>0</td>\n",
              "      <td>0</td>\n",
              "      <td>0</td>\n",
              "      <td>0</td>\n",
              "      <td>0</td>\n",
              "      <td>1</td>\n",
              "      <td>0</td>\n",
              "      <td>0</td>\n",
              "      <td>0</td>\n",
              "      <td>0</td>\n",
              "      <td>0</td>\n",
              "      <td>0</td>\n",
              "      <td>0</td>\n",
              "      <td>1</td>\n",
              "    </tr>\n",
              "  </tbody>\n",
              "</table>\n",
              "</div>"
            ],
            "text/plain": [
              "   carat  depth  table     x     y  ...  color_E  color_F  color_G  color_H  color_I\n",
              "1   0.23   61.5   55.0  3.95  3.98  ...        1        0        0        0        0\n",
              "2   0.21   59.8   61.0  3.89  3.84  ...        1        0        0        0        0\n",
              "3   0.23   56.9   65.0  4.05  4.07  ...        1        0        0        0        0\n",
              "4   0.29   62.4   58.0  4.20  4.23  ...        0        0        0        0        1\n",
              "5   0.31   63.3   58.0  4.34  4.35  ...        0        0        0        0        1\n",
              "\n",
              "[5 rows x 22 columns]"
            ]
          },
          "metadata": {
            "tags": []
          },
          "execution_count": 223
        }
      ]
    },
    {
      "cell_type": "code",
      "metadata": {
        "colab": {
          "base_uri": "https://localhost:8080/",
          "height": 203
        },
        "id": "TVFnDazpLqyi",
        "outputId": "3511e0bc-3c3c-4f90-f18d-24538efad03f"
      },
      "source": [
        "y = df[['price']]\n",
        "y.head()"
      ],
      "execution_count": null,
      "outputs": [
        {
          "output_type": "execute_result",
          "data": {
            "text/html": [
              "<div>\n",
              "<style scoped>\n",
              "    .dataframe tbody tr th:only-of-type {\n",
              "        vertical-align: middle;\n",
              "    }\n",
              "\n",
              "    .dataframe tbody tr th {\n",
              "        vertical-align: top;\n",
              "    }\n",
              "\n",
              "    .dataframe thead th {\n",
              "        text-align: right;\n",
              "    }\n",
              "</style>\n",
              "<table border=\"1\" class=\"dataframe\">\n",
              "  <thead>\n",
              "    <tr style=\"text-align: right;\">\n",
              "      <th></th>\n",
              "      <th>price</th>\n",
              "    </tr>\n",
              "  </thead>\n",
              "  <tbody>\n",
              "    <tr>\n",
              "      <th>1</th>\n",
              "      <td>326</td>\n",
              "    </tr>\n",
              "    <tr>\n",
              "      <th>2</th>\n",
              "      <td>326</td>\n",
              "    </tr>\n",
              "    <tr>\n",
              "      <th>3</th>\n",
              "      <td>327</td>\n",
              "    </tr>\n",
              "    <tr>\n",
              "      <th>4</th>\n",
              "      <td>334</td>\n",
              "    </tr>\n",
              "    <tr>\n",
              "      <th>5</th>\n",
              "      <td>335</td>\n",
              "    </tr>\n",
              "  </tbody>\n",
              "</table>\n",
              "</div>"
            ],
            "text/plain": [
              "   price\n",
              "1    326\n",
              "2    326\n",
              "3    327\n",
              "4    334\n",
              "5    335"
            ]
          },
          "metadata": {
            "tags": []
          },
          "execution_count": 224
        }
      ]
    },
    {
      "cell_type": "markdown",
      "metadata": {
        "id": "MqSHDElrXdha"
      },
      "source": [
        "Splitting Dataset"
      ]
    },
    {
      "cell_type": "code",
      "metadata": {
        "id": "c5Lfpi8s1WW_"
      },
      "source": [
        ""
      ],
      "execution_count": null,
      "outputs": []
    },
    {
      "cell_type": "code",
      "metadata": {
        "id": "1zErmvU3HhMD"
      },
      "source": [
        "from sklearn.model_selection import train_test_split\n",
        "X_train, X_test, y_train, y_test = train_test_split(X,y,test_size = 0.2, random_state = 1)"
      ],
      "execution_count": null,
      "outputs": []
    },
    {
      "cell_type": "code",
      "metadata": {
        "id": "EQ5LboaLqk_H"
      },
      "source": [
        ""
      ],
      "execution_count": null,
      "outputs": []
    },
    {
      "cell_type": "markdown",
      "metadata": {
        "id": "HF17B3S8TKqR"
      },
      "source": [
        "Normalzing"
      ]
    },
    {
      "cell_type": "code",
      "metadata": {
        "id": "ojMuDF2ETJcU",
        "colab": {
          "base_uri": "https://localhost:8080/",
          "height": 665
        },
        "outputId": "20573733-a673-47e8-d282-02625213fee5"
      },
      "source": [
        "from sklearn.preprocessing import Normalizer\n",
        "ns = Normalizer().fit(X_train[['carat', 'x','y','z']])\n",
        "X_train[['carat', 'x','y','z']] = ns.transform(X_train[['carat', 'x','y','z']])\n",
        "X_train"
      ],
      "execution_count": null,
      "outputs": [
        {
          "output_type": "stream",
          "text": [
            "/usr/local/lib/python3.6/dist-packages/ipykernel_launcher.py:3: SettingWithCopyWarning: \n",
            "A value is trying to be set on a copy of a slice from a DataFrame.\n",
            "Try using .loc[row_indexer,col_indexer] = value instead\n",
            "\n",
            "See the caveats in the documentation: https://pandas.pydata.org/pandas-docs/stable/user_guide/indexing.html#returning-a-view-versus-a-copy\n",
            "  This is separate from the ipykernel package so we can avoid doing imports until\n",
            "/usr/local/lib/python3.6/dist-packages/pandas/core/indexing.py:1734: SettingWithCopyWarning: \n",
            "A value is trying to be set on a copy of a slice from a DataFrame.\n",
            "Try using .loc[row_indexer,col_indexer] = value instead\n",
            "\n",
            "See the caveats in the documentation: https://pandas.pydata.org/pandas-docs/stable/user_guide/indexing.html#returning-a-view-versus-a-copy\n",
            "  isetter(loc, value[:, i].tolist())\n"
          ],
          "name": "stderr"
        },
        {
          "output_type": "execute_result",
          "data": {
            "text/html": [
              "<div>\n",
              "<style scoped>\n",
              "    .dataframe tbody tr th:only-of-type {\n",
              "        vertical-align: middle;\n",
              "    }\n",
              "\n",
              "    .dataframe tbody tr th {\n",
              "        vertical-align: top;\n",
              "    }\n",
              "\n",
              "    .dataframe thead th {\n",
              "        text-align: right;\n",
              "    }\n",
              "</style>\n",
              "<table border=\"1\" class=\"dataframe\">\n",
              "  <thead>\n",
              "    <tr style=\"text-align: right;\">\n",
              "      <th></th>\n",
              "      <th>carat</th>\n",
              "      <th>depth</th>\n",
              "      <th>table</th>\n",
              "      <th>x</th>\n",
              "      <th>y</th>\n",
              "      <th>z</th>\n",
              "      <th>cut_Fair</th>\n",
              "      <th>cut_Good</th>\n",
              "      <th>cut_Ideal</th>\n",
              "      <th>cut_Premium</th>\n",
              "      <th>cut_Very Good</th>\n",
              "      <th>clarity_OTHER</th>\n",
              "      <th>clarity_SI1</th>\n",
              "      <th>clarity_SI2</th>\n",
              "      <th>clarity_VS1</th>\n",
              "      <th>clarity_VS2</th>\n",
              "      <th>color_D</th>\n",
              "      <th>color_E</th>\n",
              "      <th>color_F</th>\n",
              "      <th>color_G</th>\n",
              "      <th>color_H</th>\n",
              "      <th>color_I</th>\n",
              "    </tr>\n",
              "  </thead>\n",
              "  <tbody>\n",
              "    <tr>\n",
              "      <th>42837</th>\n",
              "      <td>0.055364</td>\n",
              "      <td>62.3</td>\n",
              "      <td>53.0</td>\n",
              "      <td>0.648167</td>\n",
              "      <td>0.644116</td>\n",
              "      <td>0.402404</td>\n",
              "      <td>0</td>\n",
              "      <td>0</td>\n",
              "      <td>1</td>\n",
              "      <td>0</td>\n",
              "      <td>0</td>\n",
              "      <td>1</td>\n",
              "      <td>0</td>\n",
              "      <td>0</td>\n",
              "      <td>0</td>\n",
              "      <td>0</td>\n",
              "      <td>0</td>\n",
              "      <td>0</td>\n",
              "      <td>1</td>\n",
              "      <td>0</td>\n",
              "      <td>0</td>\n",
              "      <td>0</td>\n",
              "    </tr>\n",
              "    <tr>\n",
              "      <th>9728</th>\n",
              "      <td>0.107090</td>\n",
              "      <td>60.5</td>\n",
              "      <td>59.0</td>\n",
              "      <td>0.649235</td>\n",
              "      <td>0.643498</td>\n",
              "      <td>0.391071</td>\n",
              "      <td>0</td>\n",
              "      <td>0</td>\n",
              "      <td>0</td>\n",
              "      <td>1</td>\n",
              "      <td>0</td>\n",
              "      <td>0</td>\n",
              "      <td>0</td>\n",
              "      <td>1</td>\n",
              "      <td>0</td>\n",
              "      <td>0</td>\n",
              "      <td>0</td>\n",
              "      <td>0</td>\n",
              "      <td>1</td>\n",
              "      <td>0</td>\n",
              "      <td>0</td>\n",
              "      <td>0</td>\n",
              "    </tr>\n",
              "    <tr>\n",
              "      <th>35975</th>\n",
              "      <td>0.056192</td>\n",
              "      <td>60.6</td>\n",
              "      <td>56.0</td>\n",
              "      <td>0.646211</td>\n",
              "      <td>0.651562</td>\n",
              "      <td>0.393346</td>\n",
              "      <td>0</td>\n",
              "      <td>0</td>\n",
              "      <td>1</td>\n",
              "      <td>0</td>\n",
              "      <td>0</td>\n",
              "      <td>0</td>\n",
              "      <td>0</td>\n",
              "      <td>0</td>\n",
              "      <td>1</td>\n",
              "      <td>0</td>\n",
              "      <td>0</td>\n",
              "      <td>0</td>\n",
              "      <td>1</td>\n",
              "      <td>0</td>\n",
              "      <td>0</td>\n",
              "      <td>0</td>\n",
              "    </tr>\n",
              "    <tr>\n",
              "      <th>22502</th>\n",
              "      <td>0.103968</td>\n",
              "      <td>62.5</td>\n",
              "      <td>59.0</td>\n",
              "      <td>0.645801</td>\n",
              "      <td>0.640802</td>\n",
              "      <td>0.401876</td>\n",
              "      <td>0</td>\n",
              "      <td>0</td>\n",
              "      <td>0</td>\n",
              "      <td>1</td>\n",
              "      <td>0</td>\n",
              "      <td>1</td>\n",
              "      <td>0</td>\n",
              "      <td>0</td>\n",
              "      <td>0</td>\n",
              "      <td>0</td>\n",
              "      <td>0</td>\n",
              "      <td>1</td>\n",
              "      <td>0</td>\n",
              "      <td>0</td>\n",
              "      <td>0</td>\n",
              "      <td>0</td>\n",
              "    </tr>\n",
              "    <tr>\n",
              "      <th>3572</th>\n",
              "      <td>0.077899</td>\n",
              "      <td>58.4</td>\n",
              "      <td>60.0</td>\n",
              "      <td>0.649897</td>\n",
              "      <td>0.653236</td>\n",
              "      <td>0.380590</td>\n",
              "      <td>0</td>\n",
              "      <td>1</td>\n",
              "      <td>0</td>\n",
              "      <td>0</td>\n",
              "      <td>0</td>\n",
              "      <td>0</td>\n",
              "      <td>0</td>\n",
              "      <td>0</td>\n",
              "      <td>1</td>\n",
              "      <td>0</td>\n",
              "      <td>0</td>\n",
              "      <td>1</td>\n",
              "      <td>0</td>\n",
              "      <td>0</td>\n",
              "      <td>0</td>\n",
              "      <td>0</td>\n",
              "    </tr>\n",
              "    <tr>\n",
              "      <th>...</th>\n",
              "      <td>...</td>\n",
              "      <td>...</td>\n",
              "      <td>...</td>\n",
              "      <td>...</td>\n",
              "      <td>...</td>\n",
              "      <td>...</td>\n",
              "      <td>...</td>\n",
              "      <td>...</td>\n",
              "      <td>...</td>\n",
              "      <td>...</td>\n",
              "      <td>...</td>\n",
              "      <td>...</td>\n",
              "      <td>...</td>\n",
              "      <td>...</td>\n",
              "      <td>...</td>\n",
              "      <td>...</td>\n",
              "      <td>...</td>\n",
              "      <td>...</td>\n",
              "      <td>...</td>\n",
              "      <td>...</td>\n",
              "      <td>...</td>\n",
              "      <td>...</td>\n",
              "    </tr>\n",
              "    <tr>\n",
              "      <th>50058</th>\n",
              "      <td>0.080724</td>\n",
              "      <td>62.8</td>\n",
              "      <td>59.0</td>\n",
              "      <td>0.641177</td>\n",
              "      <td>0.646943</td>\n",
              "      <td>0.404772</td>\n",
              "      <td>0</td>\n",
              "      <td>0</td>\n",
              "      <td>0</td>\n",
              "      <td>0</td>\n",
              "      <td>1</td>\n",
              "      <td>0</td>\n",
              "      <td>0</td>\n",
              "      <td>0</td>\n",
              "      <td>0</td>\n",
              "      <td>1</td>\n",
              "      <td>0</td>\n",
              "      <td>0</td>\n",
              "      <td>0</td>\n",
              "      <td>0</td>\n",
              "      <td>0</td>\n",
              "      <td>1</td>\n",
              "    </tr>\n",
              "    <tr>\n",
              "      <th>32512</th>\n",
              "      <td>0.054993</td>\n",
              "      <td>63.9</td>\n",
              "      <td>57.0</td>\n",
              "      <td>0.647538</td>\n",
              "      <td>0.639290</td>\n",
              "      <td>0.411070</td>\n",
              "      <td>0</td>\n",
              "      <td>1</td>\n",
              "      <td>0</td>\n",
              "      <td>0</td>\n",
              "      <td>0</td>\n",
              "      <td>0</td>\n",
              "      <td>0</td>\n",
              "      <td>1</td>\n",
              "      <td>0</td>\n",
              "      <td>0</td>\n",
              "      <td>0</td>\n",
              "      <td>1</td>\n",
              "      <td>0</td>\n",
              "      <td>0</td>\n",
              "      <td>0</td>\n",
              "      <td>0</td>\n",
              "    </tr>\n",
              "    <tr>\n",
              "      <th>5193</th>\n",
              "      <td>0.097162</td>\n",
              "      <td>62.7</td>\n",
              "      <td>63.0</td>\n",
              "      <td>0.645964</td>\n",
              "      <td>0.640626</td>\n",
              "      <td>0.403594</td>\n",
              "      <td>0</td>\n",
              "      <td>0</td>\n",
              "      <td>0</td>\n",
              "      <td>0</td>\n",
              "      <td>1</td>\n",
              "      <td>0</td>\n",
              "      <td>0</td>\n",
              "      <td>0</td>\n",
              "      <td>0</td>\n",
              "      <td>1</td>\n",
              "      <td>0</td>\n",
              "      <td>0</td>\n",
              "      <td>0</td>\n",
              "      <td>1</td>\n",
              "      <td>0</td>\n",
              "      <td>0</td>\n",
              "    </tr>\n",
              "    <tr>\n",
              "      <th>12173</th>\n",
              "      <td>0.111675</td>\n",
              "      <td>61.7</td>\n",
              "      <td>56.0</td>\n",
              "      <td>0.642603</td>\n",
              "      <td>0.645442</td>\n",
              "      <td>0.397486</td>\n",
              "      <td>0</td>\n",
              "      <td>0</td>\n",
              "      <td>1</td>\n",
              "      <td>0</td>\n",
              "      <td>0</td>\n",
              "      <td>0</td>\n",
              "      <td>0</td>\n",
              "      <td>0</td>\n",
              "      <td>1</td>\n",
              "      <td>0</td>\n",
              "      <td>0</td>\n",
              "      <td>0</td>\n",
              "      <td>0</td>\n",
              "      <td>0</td>\n",
              "      <td>0</td>\n",
              "      <td>1</td>\n",
              "    </tr>\n",
              "    <tr>\n",
              "      <th>33004</th>\n",
              "      <td>0.046972</td>\n",
              "      <td>60.9</td>\n",
              "      <td>56.0</td>\n",
              "      <td>0.647330</td>\n",
              "      <td>0.650266</td>\n",
              "      <td>0.394857</td>\n",
              "      <td>0</td>\n",
              "      <td>0</td>\n",
              "      <td>1</td>\n",
              "      <td>0</td>\n",
              "      <td>0</td>\n",
              "      <td>1</td>\n",
              "      <td>0</td>\n",
              "      <td>0</td>\n",
              "      <td>0</td>\n",
              "      <td>0</td>\n",
              "      <td>0</td>\n",
              "      <td>1</td>\n",
              "      <td>0</td>\n",
              "      <td>0</td>\n",
              "      <td>0</td>\n",
              "      <td>0</td>\n",
              "    </tr>\n",
              "  </tbody>\n",
              "</table>\n",
              "<p>43152 rows × 22 columns</p>\n",
              "</div>"
            ],
            "text/plain": [
              "          carat  depth  table         x  ...  color_F  color_G  color_H  color_I\n",
              "42837  0.055364   62.3   53.0  0.648167  ...        1        0        0        0\n",
              "9728   0.107090   60.5   59.0  0.649235  ...        1        0        0        0\n",
              "35975  0.056192   60.6   56.0  0.646211  ...        1        0        0        0\n",
              "22502  0.103968   62.5   59.0  0.645801  ...        0        0        0        0\n",
              "3572   0.077899   58.4   60.0  0.649897  ...        0        0        0        0\n",
              "...         ...    ...    ...       ...  ...      ...      ...      ...      ...\n",
              "50058  0.080724   62.8   59.0  0.641177  ...        0        0        0        1\n",
              "32512  0.054993   63.9   57.0  0.647538  ...        0        0        0        0\n",
              "5193   0.097162   62.7   63.0  0.645964  ...        0        1        0        0\n",
              "12173  0.111675   61.7   56.0  0.642603  ...        0        0        0        1\n",
              "33004  0.046972   60.9   56.0  0.647330  ...        0        0        0        0\n",
              "\n",
              "[43152 rows x 22 columns]"
            ]
          },
          "metadata": {
            "tags": []
          },
          "execution_count": 226
        }
      ]
    },
    {
      "cell_type": "code",
      "metadata": {
        "colab": {
          "base_uri": "https://localhost:8080/"
        },
        "id": "z7DGSt4jUW7P",
        "outputId": "cfeadae4-10d8-429d-a8ab-989e61232ae3"
      },
      "source": [
        "X_test[['carat', 'x','y','z']] = ns.transform(X_test[['carat', 'x','y','z']])\n",
        "print(X_test)"
      ],
      "execution_count": null,
      "outputs": [
        {
          "output_type": "stream",
          "text": [
            "          carat  depth  table         x  ...  color_F  color_G  color_H  color_I\n",
            "2715   0.048067   61.7   55.0  0.645270  ...        0        0        1        0\n",
            "14654  0.114421   62.1   57.0  0.646481  ...        0        0        0        1\n",
            "52761  0.072669   61.0   57.0  0.645813  ...        0        0        0        0\n",
            "48659  0.049439   63.1   56.0  0.641253  ...        0        0        1        0\n",
            "14813  0.113328   62.5   55.0  0.639360  ...        0        0        0        0\n",
            "...         ...    ...    ...       ...  ...      ...      ...      ...      ...\n",
            "49569  0.075380   57.5   60.1  0.650293  ...        0        1        0        0\n",
            "32164  0.043220   62.6   53.0  0.645208  ...        1        0        0        0\n",
            "52460  0.081202   66.4   53.0  0.639175  ...        1        0        0        0\n",
            "15266  0.112513   61.0   58.0  0.648824  ...        0        0        1        0\n",
            "43029  0.074237   62.0   57.0  0.644566  ...        0        0        0        1\n",
            "\n",
            "[10788 rows x 22 columns]\n"
          ],
          "name": "stdout"
        },
        {
          "output_type": "stream",
          "text": [
            "/usr/local/lib/python3.6/dist-packages/ipykernel_launcher.py:1: SettingWithCopyWarning: \n",
            "A value is trying to be set on a copy of a slice from a DataFrame.\n",
            "Try using .loc[row_indexer,col_indexer] = value instead\n",
            "\n",
            "See the caveats in the documentation: https://pandas.pydata.org/pandas-docs/stable/user_guide/indexing.html#returning-a-view-versus-a-copy\n",
            "  \"\"\"Entry point for launching an IPython kernel.\n",
            "/usr/local/lib/python3.6/dist-packages/pandas/core/indexing.py:1734: SettingWithCopyWarning: \n",
            "A value is trying to be set on a copy of a slice from a DataFrame.\n",
            "Try using .loc[row_indexer,col_indexer] = value instead\n",
            "\n",
            "See the caveats in the documentation: https://pandas.pydata.org/pandas-docs/stable/user_guide/indexing.html#returning-a-view-versus-a-copy\n",
            "  isetter(loc, value[:, i].tolist())\n"
          ],
          "name": "stderr"
        }
      ]
    },
    {
      "cell_type": "markdown",
      "metadata": {
        "id": "jFzcW_tDY3Eh"
      },
      "source": [
        "Scaling"
      ]
    },
    {
      "cell_type": "code",
      "metadata": {
        "id": "oy0TY8IvHhOe",
        "colab": {
          "base_uri": "https://localhost:8080/"
        },
        "outputId": "4a45182b-9c7c-49db-c8f5-7b3a807db085"
      },
      "source": [
        "from sklearn.preprocessing import StandardScaler\n",
        "sc = StandardScaler()\n",
        "X_train[['carat','depth','table', 'x','y','z']] = sc.fit_transform(X_train[['carat','depth','table', 'x','y','z']])\n",
        "print(X_train)"
      ],
      "execution_count": null,
      "outputs": [
        {
          "output_type": "stream",
          "text": [
            "/usr/local/lib/python3.6/dist-packages/ipykernel_launcher.py:3: SettingWithCopyWarning: \n",
            "A value is trying to be set on a copy of a slice from a DataFrame.\n",
            "Try using .loc[row_indexer,col_indexer] = value instead\n",
            "\n",
            "See the caveats in the documentation: https://pandas.pydata.org/pandas-docs/stable/user_guide/indexing.html#returning-a-view-versus-a-copy\n",
            "  This is separate from the ipykernel package so we can avoid doing imports until\n",
            "/usr/local/lib/python3.6/dist-packages/pandas/core/indexing.py:1734: SettingWithCopyWarning: \n",
            "A value is trying to be set on a copy of a slice from a DataFrame.\n",
            "Try using .loc[row_indexer,col_indexer] = value instead\n",
            "\n",
            "See the caveats in the documentation: https://pandas.pydata.org/pandas-docs/stable/user_guide/indexing.html#returning-a-view-versus-a-copy\n",
            "  isetter(loc, value[:, i].tolist())\n"
          ],
          "name": "stderr"
        },
        {
          "output_type": "stream",
          "text": [
            "          carat     depth     table  ...  color_G  color_H  color_I\n",
            "42837 -0.810479  0.386083 -1.991090  ...        0        0        0\n",
            "9728   0.686050 -0.870973  0.689861  ...        0        0        0\n",
            "35975 -0.786525 -0.801137 -0.650615  ...        0        0        0\n",
            "22502  0.595714  0.525756  0.689861  ...        0        0        0\n",
            "3572  -0.158519 -2.337539  1.136686  ...        0        0        0\n",
            "...         ...       ...       ...  ...      ...      ...      ...\n",
            "50058 -0.076783  0.735265  0.689861  ...        0        0        1\n",
            "32512 -0.821231  1.503467 -0.203789  ...        0        0        0\n",
            "5193   0.398794  0.665429  2.477162  ...        1        0        0\n",
            "12173  0.818685 -0.032936 -0.650615  ...        0        0        1\n",
            "33004 -1.053289 -0.591627 -0.650615  ...        0        0        0\n",
            "\n",
            "[43152 rows x 22 columns]\n"
          ],
          "name": "stdout"
        }
      ]
    },
    {
      "cell_type": "code",
      "metadata": {
        "id": "7hsMgjolaYUK",
        "colab": {
          "base_uri": "https://localhost:8080/"
        },
        "outputId": "fa79c936-39a7-49be-cb20-22ba3d9e9f6d"
      },
      "source": [
        "X_test[['carat','depth','table', 'x','y','z']] = sc.fit_transform(X_test[['carat','depth','table', 'x','y','z']])\n",
        "print(X_test)"
      ],
      "execution_count": null,
      "outputs": [
        {
          "output_type": "stream",
          "text": [
            "          carat     depth     table  ...  color_G  color_H  color_I\n",
            "2715  -1.063005 -0.040673 -1.108702  ...        0        1        0\n",
            "14654  0.913325  0.238007 -0.207899  ...        0        0        1\n",
            "52761 -0.330269 -0.528364 -0.207899  ...        0        0        0\n",
            "48659 -1.022154  0.934709 -0.658301  ...        0        1        0\n",
            "14813  0.880761  0.516688 -1.108702  ...        0        0        0\n",
            "...         ...       ...       ...  ...      ...      ...      ...\n",
            "49569 -0.249510 -2.966819  1.188345  ...        1        0        0\n",
            "32164 -1.207395  0.586358 -2.009505  ...        0        0        0\n",
            "52460 -0.076106  3.233824 -2.009505  ...        0        0        0\n",
            "15266  0.856475 -0.528364  0.242502  ...        0        1        0\n",
            "43029 -0.283556  0.168337 -0.207899  ...        0        0        1\n",
            "\n",
            "[10788 rows x 22 columns]\n"
          ],
          "name": "stdout"
        },
        {
          "output_type": "stream",
          "text": [
            "/usr/local/lib/python3.6/dist-packages/ipykernel_launcher.py:1: SettingWithCopyWarning: \n",
            "A value is trying to be set on a copy of a slice from a DataFrame.\n",
            "Try using .loc[row_indexer,col_indexer] = value instead\n",
            "\n",
            "See the caveats in the documentation: https://pandas.pydata.org/pandas-docs/stable/user_guide/indexing.html#returning-a-view-versus-a-copy\n",
            "  \"\"\"Entry point for launching an IPython kernel.\n",
            "/usr/local/lib/python3.6/dist-packages/pandas/core/indexing.py:1734: SettingWithCopyWarning: \n",
            "A value is trying to be set on a copy of a slice from a DataFrame.\n",
            "Try using .loc[row_indexer,col_indexer] = value instead\n",
            "\n",
            "See the caveats in the documentation: https://pandas.pydata.org/pandas-docs/stable/user_guide/indexing.html#returning-a-view-versus-a-copy\n",
            "  isetter(loc, value[:, i].tolist())\n"
          ],
          "name": "stderr"
        }
      ]
    },
    {
      "cell_type": "markdown",
      "metadata": {
        "id": "bOf6AS0OXfwC"
      },
      "source": [
        "Converting variables to numpy array"
      ]
    },
    {
      "cell_type": "code",
      "metadata": {
        "id": "fzMLKvoKXffX"
      },
      "source": [
        "X_train = X_train.iloc[:, :].values\n",
        "X_test = X_test.iloc[:,:].values\n",
        "y_test = y_test.iloc[:,:].values\n",
        "y_train = y_train.iloc[:,:].values"
      ],
      "execution_count": null,
      "outputs": []
    },
    {
      "cell_type": "code",
      "metadata": {
        "id": "zOF80KdbpA6a"
      },
      "source": [
        ""
      ],
      "execution_count": null,
      "outputs": []
    },
    {
      "cell_type": "markdown",
      "metadata": {
        "id": "zUcffpz0WZAc"
      },
      "source": [
        "Data is ready for modelling, performing linear regression"
      ]
    },
    {
      "cell_type": "code",
      "metadata": {
        "id": "8P6Yrj3kWWv7",
        "colab": {
          "base_uri": "https://localhost:8080/"
        },
        "outputId": "641ae872-5e19-49d0-f585-364a7f128e07"
      },
      "source": [
        "from sklearn.linear_model import LinearRegression\n",
        "linear_reg = LinearRegression()\n",
        "linear_reg.fit(X_train, y_train)\n"
      ],
      "execution_count": null,
      "outputs": [
        {
          "output_type": "execute_result",
          "data": {
            "text/plain": [
              "LinearRegression(copy_X=True, fit_intercept=True, n_jobs=None, normalize=False)"
            ]
          },
          "metadata": {
            "tags": []
          },
          "execution_count": 231
        }
      ]
    },
    {
      "cell_type": "code",
      "metadata": {
        "colab": {
          "base_uri": "https://localhost:8080/"
        },
        "id": "dU-0IMDWzGEE",
        "outputId": "c75fc28e-5ca4-4a31-bde9-76c5fac352de"
      },
      "source": [
        "linear_reg.coef_\n"
      ],
      "execution_count": null,
      "outputs": [
        {
          "output_type": "execute_result",
          "data": {
            "text/plain": [
              "array([[ 4601.94810285,  -166.95273992,  -100.78209207,   396.42529928,\n",
              "          949.15682915,   548.18636776,  -900.82863264,   -54.30936003,\n",
              "          371.54121709,   401.62078881,   181.97598677,   840.3629149 ,\n",
              "         -424.86958327, -1167.3500777 ,   528.22983827,   223.62690779,\n",
              "          538.64717162,   346.09646789,   230.85737886,   102.83311337,\n",
              "         -310.31272641,  -908.12140533]])"
            ]
          },
          "metadata": {
            "tags": []
          },
          "execution_count": 232
        }
      ]
    },
    {
      "cell_type": "code",
      "metadata": {
        "colab": {
          "base_uri": "https://localhost:8080/"
        },
        "id": "15do0aP2lGQt",
        "outputId": "66e91063-6724-43bb-e815-1d76fc706f04"
      },
      "source": [
        "print(linear_reg.intercept_)"
      ],
      "execution_count": null,
      "outputs": [
        {
          "output_type": "stream",
          "text": [
            "[3658.85326383]\n"
          ],
          "name": "stdout"
        }
      ]
    },
    {
      "cell_type": "code",
      "metadata": {
        "colab": {
          "base_uri": "https://localhost:8080/"
        },
        "id": "PIvXZo38lWSC",
        "outputId": "84037231-2aef-48a3-f741-3ee8a6337920"
      },
      "source": [
        "#checking regression score\n",
        "linear_reg.score(X_test,y_test)"
      ],
      "execution_count": null,
      "outputs": [
        {
          "output_type": "execute_result",
          "data": {
            "text/plain": [
              "0.8580222784452634"
            ]
          },
          "metadata": {
            "tags": []
          },
          "execution_count": 234
        }
      ]
    },
    {
      "cell_type": "code",
      "metadata": {
        "id": "kuCL_MXhlv2Z"
      },
      "source": [
        "y_pred = linear_reg.predict(X_test)"
      ],
      "execution_count": null,
      "outputs": []
    },
    {
      "cell_type": "code",
      "metadata": {
        "id": "NMfKdbHIndXx"
      },
      "source": [
        ""
      ],
      "execution_count": null,
      "outputs": []
    },
    {
      "cell_type": "markdown",
      "metadata": {
        "id": "kr6O67g8l0y4"
      },
      "source": [
        "Comparing test and pred"
      ]
    },
    {
      "cell_type": "code",
      "metadata": {
        "id": "yw7ZesLul0DD"
      },
      "source": [
        "df = pd.DataFrame({'X':list(X_test),'Actual': y_test.ravel(),'Predicted':y_pred.ravel()})"
      ],
      "execution_count": null,
      "outputs": []
    },
    {
      "cell_type": "code",
      "metadata": {
        "colab": {
          "base_uri": "https://localhost:8080/",
          "height": 141
        },
        "id": "QOxxqbZEyibX",
        "outputId": "e43c0a35-381f-4c21-b6ca-5e828c7de811"
      },
      "source": [
        "df.sample(3)"
      ],
      "execution_count": null,
      "outputs": [
        {
          "output_type": "execute_result",
          "data": {
            "text/html": [
              "<div>\n",
              "<style scoped>\n",
              "    .dataframe tbody tr th:only-of-type {\n",
              "        vertical-align: middle;\n",
              "    }\n",
              "\n",
              "    .dataframe tbody tr th {\n",
              "        vertical-align: top;\n",
              "    }\n",
              "\n",
              "    .dataframe thead th {\n",
              "        text-align: right;\n",
              "    }\n",
              "</style>\n",
              "<table border=\"1\" class=\"dataframe\">\n",
              "  <thead>\n",
              "    <tr style=\"text-align: right;\">\n",
              "      <th></th>\n",
              "      <th>X</th>\n",
              "      <th>Actual</th>\n",
              "      <th>Predicted</th>\n",
              "    </tr>\n",
              "  </thead>\n",
              "  <tbody>\n",
              "    <tr>\n",
              "      <th>8732</th>\n",
              "      <td>[-1.0414470286155455, -0.24968365042906882, -0...</td>\n",
              "      <td>974</td>\n",
              "      <td>825.026382</td>\n",
              "    </tr>\n",
              "    <tr>\n",
              "      <th>172</th>\n",
              "      <td>[2.9323418149438045, -2.2701179115649155, 0.69...</td>\n",
              "      <td>18252</td>\n",
              "      <td>14862.874281</td>\n",
              "    </tr>\n",
              "    <tr>\n",
              "      <th>7092</th>\n",
              "      <td>[-0.13205272961416967, 0.7256984066709946, 0.2...</td>\n",
              "      <td>2429</td>\n",
              "      <td>3214.344183</td>\n",
              "    </tr>\n",
              "  </tbody>\n",
              "</table>\n",
              "</div>"
            ],
            "text/plain": [
              "                                                      X  Actual     Predicted\n",
              "8732  [-1.0414470286155455, -0.24968365042906882, -0...     974    825.026382\n",
              "172   [2.9323418149438045, -2.2701179115649155, 0.69...   18252  14862.874281\n",
              "7092  [-0.13205272961416967, 0.7256984066709946, 0.2...    2429   3214.344183"
            ]
          },
          "metadata": {
            "tags": []
          },
          "execution_count": 240
        }
      ]
    },
    {
      "cell_type": "code",
      "metadata": {
        "colab": {
          "base_uri": "https://localhost:8080/"
        },
        "id": "5YMRmm6KyK1N",
        "outputId": "628720a4-aa30-4e29-d411-0eb10a77daa5"
      },
      "source": [
        "from sklearn.metrics import r2_score\n",
        "r2_score(y_test,y_pred)"
      ],
      "execution_count": null,
      "outputs": [
        {
          "output_type": "execute_result",
          "data": {
            "text/plain": [
              "0.8580222784452632"
            ]
          },
          "metadata": {
            "tags": []
          },
          "execution_count": 238
        }
      ]
    }
  ]
}